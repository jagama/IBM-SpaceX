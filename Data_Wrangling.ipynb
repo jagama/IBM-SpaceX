{
 "cells": [
  {
   "cell_type": "markdown",
   "source": [
    "# Data Wrangling"
   ],
   "metadata": {
    "collapsed": false
   },
   "id": "cf4915f7af54234c"
  },
  {
   "cell_type": "markdown",
   "source": [
    "### Performing Exploratory Data Analysis EDA to find patterns and determine target label for training supervised models"
   ],
   "metadata": {
    "collapsed": false
   },
   "id": "f057948fe887af52"
  },
  {
   "cell_type": "markdown",
   "source": [
    "In the dataSet there are cases where booster did not land successfully:\n",
    "\n",
    "1. Ocean true => successfully landed in a specific ocean region\n",
    "2. Ocean false => unsuccessfully landed in a specific ocean region\n",
    "3. RTLS true => successfully landed on ground pad\n",
    "4. RTLS false => unsuccessfully landed on ground pad\n",
    "5. ASDS true => successfully landed on a drone ship\n",
    "6. ASDS false => unsuccessfully landed on a drone ship"
   ],
   "metadata": {
    "collapsed": false
   },
   "id": "f4d89c17b4737f32"
  },
  {
   "cell_type": "markdown",
   "source": [
    "⚠️ outcomes are converted into training label:\n",
    "\n",
    "1. <code>Number 1</code> => successfully landed\n",
    "2. <code>Number 2</code> => unsuccessfully landed"
   ],
   "metadata": {
    "collapsed": false
   },
   "id": "58c5b96a79802179"
  },
  {
   "cell_type": "code",
   "execution_count": 8,
   "outputs": [],
   "source": [
    "import pandas as pd\n",
    "import numpy as np "
   ],
   "metadata": {
    "collapsed": false,
    "ExecuteTime": {
     "end_time": "2023-11-02T15:07:37.776929Z",
     "start_time": "2023-11-02T15:07:37.732890Z"
    }
   },
   "id": "df49c63f9dc3e5b"
  },
  {
   "cell_type": "markdown",
   "source": [
    "## Data Analysis"
   ],
   "metadata": {
    "collapsed": false
   },
   "id": "c360dfd347a3befe"
  },
  {
   "cell_type": "code",
   "execution_count": 9,
   "outputs": [
    {
     "data": {
      "text/plain": "   FlightNumber        Date      Outcome Serial BoosterName  Flights  Reused  \\\n0             1  2010-06-04    None None  B0003    Falcon 9        1   False   \n1             2  2012-05-22    None None  B0005    Falcon 9        1   False   \n2             3  2013-03-01    None None  B0007    Falcon 9        1   False   \n3             4  2013-09-29  False Ocean  B1003    Falcon 9        1   False   \n4             5  2013-12-03    None None  B1004    Falcon 9        1   False   \n5             6  2014-01-06    None None  B1005    Falcon 9        1   False   \n6             7  2014-04-18   True Ocean  B1006    Falcon 9        1   False   \n7             8  2014-07-14   True Ocean  B1007    Falcon 9        1   False   \n8             9  2014-08-05    None None  B1008    Falcon 9        1   False   \n9            10  2014-09-07    None None  B1011    Falcon 9        1   False   \n\n   ReusedCount  Block   Legs  GridFins  PayloadMass FinalOrbit     LaunchPad  \\\n0            0    1.0  False     False  6123.547647        LEO  CCSFS SLC 40   \n1            0    1.0  False     False   525.000000        LEO  CCSFS SLC 40   \n2            0    1.0  False     False   677.000000        ISS  CCSFS SLC 40   \n3            0    1.0  False     False   500.000000         PO   VAFB SLC 4E   \n4            0    1.0  False     False  3170.000000        GTO  CCSFS SLC 40   \n5            0    1.0  False     False  3325.000000        GTO  CCSFS SLC 40   \n6            0    1.0   True     False  2296.000000        ISS  CCSFS SLC 40   \n7            0    1.0   True     False  1316.000000        LEO  CCSFS SLC 40   \n8            0    1.0  False     False  4535.000000        GTO  CCSFS SLC 40   \n9            0    1.0  False     False  4428.000000        GTO  CCSFS SLC 40   \n\n  LandPad   Latitude   Longitude  \\\n0     NaN  28.561857  -80.577366   \n1     NaN  28.561857  -80.577366   \n2     NaN  28.561857  -80.577366   \n3     NaN  34.632093 -120.610829   \n4     NaN  28.561857  -80.577366   \n5     NaN  28.561857  -80.577366   \n6     NaN  28.561857  -80.577366   \n7     NaN  28.561857  -80.577366   \n8     NaN  28.561857  -80.577366   \n9     NaN  28.561857  -80.577366   \n\n                                            Failures  \n0                                     Stage Expended  \n1                                                NaN  \n2                                                NaN  \n3  First flight of Falcon 9 v1.1 upgrade, first S...  \n4                                                NaN  \n5                                                NaN  \n6             Broke up after sucessful water landing  \n7             Broke up after sucessful water landing  \n8                                                NaN  \n9                                                NaN  ",
      "text/html": "<div>\n<style scoped>\n    .dataframe tbody tr th:only-of-type {\n        vertical-align: middle;\n    }\n\n    .dataframe tbody tr th {\n        vertical-align: top;\n    }\n\n    .dataframe thead th {\n        text-align: right;\n    }\n</style>\n<table border=\"1\" class=\"dataframe\">\n  <thead>\n    <tr style=\"text-align: right;\">\n      <th></th>\n      <th>FlightNumber</th>\n      <th>Date</th>\n      <th>Outcome</th>\n      <th>Serial</th>\n      <th>BoosterName</th>\n      <th>Flights</th>\n      <th>Reused</th>\n      <th>ReusedCount</th>\n      <th>Block</th>\n      <th>Legs</th>\n      <th>GridFins</th>\n      <th>PayloadMass</th>\n      <th>FinalOrbit</th>\n      <th>LaunchPad</th>\n      <th>LandPad</th>\n      <th>Latitude</th>\n      <th>Longitude</th>\n      <th>Failures</th>\n    </tr>\n  </thead>\n  <tbody>\n    <tr>\n      <th>0</th>\n      <td>1</td>\n      <td>2010-06-04</td>\n      <td>None None</td>\n      <td>B0003</td>\n      <td>Falcon 9</td>\n      <td>1</td>\n      <td>False</td>\n      <td>0</td>\n      <td>1.0</td>\n      <td>False</td>\n      <td>False</td>\n      <td>6123.547647</td>\n      <td>LEO</td>\n      <td>CCSFS SLC 40</td>\n      <td>NaN</td>\n      <td>28.561857</td>\n      <td>-80.577366</td>\n      <td>Stage Expended</td>\n    </tr>\n    <tr>\n      <th>1</th>\n      <td>2</td>\n      <td>2012-05-22</td>\n      <td>None None</td>\n      <td>B0005</td>\n      <td>Falcon 9</td>\n      <td>1</td>\n      <td>False</td>\n      <td>0</td>\n      <td>1.0</td>\n      <td>False</td>\n      <td>False</td>\n      <td>525.000000</td>\n      <td>LEO</td>\n      <td>CCSFS SLC 40</td>\n      <td>NaN</td>\n      <td>28.561857</td>\n      <td>-80.577366</td>\n      <td>NaN</td>\n    </tr>\n    <tr>\n      <th>2</th>\n      <td>3</td>\n      <td>2013-03-01</td>\n      <td>None None</td>\n      <td>B0007</td>\n      <td>Falcon 9</td>\n      <td>1</td>\n      <td>False</td>\n      <td>0</td>\n      <td>1.0</td>\n      <td>False</td>\n      <td>False</td>\n      <td>677.000000</td>\n      <td>ISS</td>\n      <td>CCSFS SLC 40</td>\n      <td>NaN</td>\n      <td>28.561857</td>\n      <td>-80.577366</td>\n      <td>NaN</td>\n    </tr>\n    <tr>\n      <th>3</th>\n      <td>4</td>\n      <td>2013-09-29</td>\n      <td>False Ocean</td>\n      <td>B1003</td>\n      <td>Falcon 9</td>\n      <td>1</td>\n      <td>False</td>\n      <td>0</td>\n      <td>1.0</td>\n      <td>False</td>\n      <td>False</td>\n      <td>500.000000</td>\n      <td>PO</td>\n      <td>VAFB SLC 4E</td>\n      <td>NaN</td>\n      <td>34.632093</td>\n      <td>-120.610829</td>\n      <td>First flight of Falcon 9 v1.1 upgrade, first S...</td>\n    </tr>\n    <tr>\n      <th>4</th>\n      <td>5</td>\n      <td>2013-12-03</td>\n      <td>None None</td>\n      <td>B1004</td>\n      <td>Falcon 9</td>\n      <td>1</td>\n      <td>False</td>\n      <td>0</td>\n      <td>1.0</td>\n      <td>False</td>\n      <td>False</td>\n      <td>3170.000000</td>\n      <td>GTO</td>\n      <td>CCSFS SLC 40</td>\n      <td>NaN</td>\n      <td>28.561857</td>\n      <td>-80.577366</td>\n      <td>NaN</td>\n    </tr>\n    <tr>\n      <th>5</th>\n      <td>6</td>\n      <td>2014-01-06</td>\n      <td>None None</td>\n      <td>B1005</td>\n      <td>Falcon 9</td>\n      <td>1</td>\n      <td>False</td>\n      <td>0</td>\n      <td>1.0</td>\n      <td>False</td>\n      <td>False</td>\n      <td>3325.000000</td>\n      <td>GTO</td>\n      <td>CCSFS SLC 40</td>\n      <td>NaN</td>\n      <td>28.561857</td>\n      <td>-80.577366</td>\n      <td>NaN</td>\n    </tr>\n    <tr>\n      <th>6</th>\n      <td>7</td>\n      <td>2014-04-18</td>\n      <td>True Ocean</td>\n      <td>B1006</td>\n      <td>Falcon 9</td>\n      <td>1</td>\n      <td>False</td>\n      <td>0</td>\n      <td>1.0</td>\n      <td>True</td>\n      <td>False</td>\n      <td>2296.000000</td>\n      <td>ISS</td>\n      <td>CCSFS SLC 40</td>\n      <td>NaN</td>\n      <td>28.561857</td>\n      <td>-80.577366</td>\n      <td>Broke up after sucessful water landing</td>\n    </tr>\n    <tr>\n      <th>7</th>\n      <td>8</td>\n      <td>2014-07-14</td>\n      <td>True Ocean</td>\n      <td>B1007</td>\n      <td>Falcon 9</td>\n      <td>1</td>\n      <td>False</td>\n      <td>0</td>\n      <td>1.0</td>\n      <td>True</td>\n      <td>False</td>\n      <td>1316.000000</td>\n      <td>LEO</td>\n      <td>CCSFS SLC 40</td>\n      <td>NaN</td>\n      <td>28.561857</td>\n      <td>-80.577366</td>\n      <td>Broke up after sucessful water landing</td>\n    </tr>\n    <tr>\n      <th>8</th>\n      <td>9</td>\n      <td>2014-08-05</td>\n      <td>None None</td>\n      <td>B1008</td>\n      <td>Falcon 9</td>\n      <td>1</td>\n      <td>False</td>\n      <td>0</td>\n      <td>1.0</td>\n      <td>False</td>\n      <td>False</td>\n      <td>4535.000000</td>\n      <td>GTO</td>\n      <td>CCSFS SLC 40</td>\n      <td>NaN</td>\n      <td>28.561857</td>\n      <td>-80.577366</td>\n      <td>NaN</td>\n    </tr>\n    <tr>\n      <th>9</th>\n      <td>10</td>\n      <td>2014-09-07</td>\n      <td>None None</td>\n      <td>B1011</td>\n      <td>Falcon 9</td>\n      <td>1</td>\n      <td>False</td>\n      <td>0</td>\n      <td>1.0</td>\n      <td>False</td>\n      <td>False</td>\n      <td>4428.000000</td>\n      <td>GTO</td>\n      <td>CCSFS SLC 40</td>\n      <td>NaN</td>\n      <td>28.561857</td>\n      <td>-80.577366</td>\n      <td>NaN</td>\n    </tr>\n  </tbody>\n</table>\n</div>"
     },
     "execution_count": 9,
     "metadata": {},
     "output_type": "execute_result"
    }
   ],
   "source": [
    "path = './dataset1.csv'\n",
    "\n",
    "df = pd.read_csv(path)\n",
    "df.head(10)"
   ],
   "metadata": {
    "collapsed": false,
    "ExecuteTime": {
     "end_time": "2023-11-02T15:07:37.789228Z",
     "start_time": "2023-11-02T15:07:37.737205Z"
    }
   },
   "id": "20c2faddb3ed0a1f"
  },
  {
   "cell_type": "markdown",
   "source": [
    "Check missing values "
   ],
   "metadata": {
    "collapsed": false
   },
   "id": "ca69d168253b89f9"
  },
  {
   "cell_type": "code",
   "execution_count": 10,
   "outputs": [
    {
     "data": {
      "text/plain": "FlightNumber     0.000000\nDate             0.000000\nOutcome          0.000000\nSerial           0.000000\nBoosterName      0.000000\nFlights          0.000000\nReused           0.000000\nReusedCount      0.000000\nBlock            0.000000\nLegs             0.000000\nGridFins         0.000000\nPayloadMass      0.000000\nFinalOrbit       0.000000\nLaunchPad        0.000000\nLandPad         28.888889\nLatitude         0.000000\nLongitude        0.000000\nFailures         7.777778\ndtype: float64"
     },
     "execution_count": 10,
     "metadata": {},
     "output_type": "execute_result"
    }
   ],
   "source": [
    "df.isnull().sum()\n",
    "\n",
    "# shape it into percentage\n",
    "df.isnull().sum()/df.shape[0]*100"
   ],
   "metadata": {
    "collapsed": false,
    "ExecuteTime": {
     "end_time": "2023-11-02T15:07:37.819669Z",
     "start_time": "2023-11-02T15:07:37.752369Z"
    }
   },
   "id": "5c8b836685c30e1e"
  },
  {
   "cell_type": "markdown",
   "source": [
    "Check data types"
   ],
   "metadata": {
    "collapsed": false
   },
   "id": "634ba0dbbce1bb28"
  },
  {
   "cell_type": "code",
   "execution_count": 11,
   "outputs": [
    {
     "data": {
      "text/plain": "FlightNumber      int64\nDate             object\nOutcome          object\nSerial           object\nBoosterName      object\nFlights           int64\nReused             bool\nReusedCount       int64\nBlock           float64\nLegs               bool\nGridFins           bool\nPayloadMass     float64\nFinalOrbit       object\nLaunchPad        object\nLandPad          object\nLatitude        float64\nLongitude       float64\nFailures         object\ndtype: object"
     },
     "execution_count": 11,
     "metadata": {},
     "output_type": "execute_result"
    }
   ],
   "source": [
    "df.dtypes"
   ],
   "metadata": {
    "collapsed": false,
    "ExecuteTime": {
     "end_time": "2023-11-02T15:07:37.828299Z",
     "start_time": "2023-11-02T15:07:37.756011Z"
    }
   },
   "id": "3ac5218ee31ff2eb"
  },
  {
   "cell_type": "markdown",
   "source": [
    "Target <code>LaunchSite</code> to determine each launch location. Next, check the number of launches for each site."
   ],
   "metadata": {
    "collapsed": false
   },
   "id": "5f0afc7493e4db5d"
  },
  {
   "cell_type": "code",
   "execution_count": 12,
   "outputs": [
    {
     "data": {
      "text/plain": "CCSFS SLC 40    55\nKSC LC 39A      22\nVAFB SLC 4E     13\nName: LaunchPad, dtype: int64"
     },
     "execution_count": 12,
     "metadata": {},
     "output_type": "execute_result"
    }
   ],
   "source": [
    "# target the launchSite and count the values of occurrence on each site\n",
    "df['LaunchPad'].value_counts()"
   ],
   "metadata": {
    "collapsed": false,
    "ExecuteTime": {
     "end_time": "2023-11-02T15:07:37.838456Z",
     "start_time": "2023-11-02T15:07:37.763414Z"
    }
   },
   "id": "d22f56b22dd49989"
  },
  {
   "cell_type": "markdown",
   "source": [
    "## Find number of occurrence of mission outcome for each orbit type"
   ],
   "metadata": {
    "collapsed": false
   },
   "id": "de2d76b04553ddde"
  },
  {
   "cell_type": "code",
   "execution_count": 13,
   "outputs": [
    {
     "data": {
      "text/plain": "True ASDS      41\nNone None      19\nTrue RTLS      14\nFalse ASDS      6\nTrue Ocean      5\nFalse Ocean     2\nNone ASDS       2\nFalse RTLS      1\nName: Outcome, dtype: int64"
     },
     "execution_count": 13,
     "metadata": {},
     "output_type": "execute_result"
    }
   ],
   "source": [
    "# count the values on the 'Outcome' column to find the landing outcomes\n",
    "# specific: landing_outcomes = Outcome Column\n",
    "landing_outcomes = df['Outcome'].value_counts()\n",
    "landing_outcomes"
   ],
   "metadata": {
    "collapsed": false,
    "ExecuteTime": {
     "end_time": "2023-11-02T15:07:37.839939Z",
     "start_time": "2023-11-02T15:07:37.766837Z"
    }
   },
   "id": "c7bb347a39c7500a"
  },
  {
   "cell_type": "markdown",
   "source": [
    "Indexing outcomes with keys"
   ],
   "metadata": {
    "collapsed": false
   },
   "id": "a9e48c613b6e16ec"
  },
  {
   "cell_type": "code",
   "execution_count": 14,
   "outputs": [
    {
     "name": "stdout",
     "output_type": "stream",
     "text": [
      "0 True ASDS\n",
      "1 None None\n",
      "2 True RTLS\n",
      "3 False ASDS\n",
      "4 True Ocean\n",
      "5 False Ocean\n",
      "6 None ASDS\n",
      "7 False RTLS\n"
     ]
    }
   ],
   "source": [
    "for i,outcome in enumerate(landing_outcomes.keys()):\n",
    "    print(i,outcome)"
   ],
   "metadata": {
    "collapsed": false,
    "ExecuteTime": {
     "end_time": "2023-11-02T15:07:37.840102Z",
     "start_time": "2023-11-02T15:07:37.772537Z"
    }
   },
   "id": "1bc3c7ac360c0948"
  },
  {
   "cell_type": "markdown",
   "source": [
    "Create a Set => ko_outcomes"
   ],
   "metadata": {
    "collapsed": false
   },
   "id": "f67f1e60a31e87bd"
  },
  {
   "cell_type": "code",
   "execution_count": 15,
   "outputs": [
    {
     "data": {
      "text/plain": "{'False ASDS', 'False Ocean', 'False RTLS', 'None ASDS', 'None None'}"
     },
     "execution_count": 15,
     "metadata": {},
     "output_type": "execute_result"
    }
   ],
   "source": [
    "ko_outcomes = set(landing_outcomes.keys()[[1, 3, 5, 6, 7]])\n",
    "ko_outcomes"
   ],
   "metadata": {
    "collapsed": false,
    "ExecuteTime": {
     "end_time": "2023-11-02T15:07:37.840894Z",
     "start_time": "2023-11-02T15:07:37.777044Z"
    }
   },
   "id": "bcba2f0e2c20b88f"
  },
  {
   "cell_type": "markdown",
   "source": [
    "## Create landing outcome label from the 'Outcome' column"
   ],
   "metadata": {
    "collapsed": false
   },
   "id": "3cf678cc4aa5cea5"
  },
  {
   "cell_type": "markdown",
   "source": [
    "from <code>Outcome</code>, create a list: \n",
    "\n",
    "1. Element is 0 if the corresponding row in <code>Outcome</code> is set to <code>ko_outcome</code> else element is 1\n",
    "2. Assign the value to the variable <code>land_status</code>"
   ],
   "metadata": {
    "collapsed": false
   },
   "id": "3cdc24b5512f7a3b"
  },
  {
   "cell_type": "code",
   "execution_count": 16,
   "outputs": [],
   "source": [
    "land_status = []\n",
    "\n",
    "for item in df['Outcome']:\n",
    "    if item in set(ko_outcomes):\n",
    "        land_status.append(0)\n",
    "    else:\n",
    "        land_status.append(1)"
   ],
   "metadata": {
    "collapsed": false,
    "ExecuteTime": {
     "end_time": "2023-11-02T15:07:37.840962Z",
     "start_time": "2023-11-02T15:07:37.779951Z"
    }
   },
   "id": "df4201ae5116adbf"
  },
  {
   "cell_type": "code",
   "execution_count": 17,
   "outputs": [
    {
     "data": {
      "text/plain": "   Status\n0       0\n1       0\n2       0\n3       0\n4       0\n5       0\n6       1\n7       1\n8       0\n9       0",
      "text/html": "<div>\n<style scoped>\n    .dataframe tbody tr th:only-of-type {\n        vertical-align: middle;\n    }\n\n    .dataframe tbody tr th {\n        vertical-align: top;\n    }\n\n    .dataframe thead th {\n        text-align: right;\n    }\n</style>\n<table border=\"1\" class=\"dataframe\">\n  <thead>\n    <tr style=\"text-align: right;\">\n      <th></th>\n      <th>Status</th>\n    </tr>\n  </thead>\n  <tbody>\n    <tr>\n      <th>0</th>\n      <td>0</td>\n    </tr>\n    <tr>\n      <th>1</th>\n      <td>0</td>\n    </tr>\n    <tr>\n      <th>2</th>\n      <td>0</td>\n    </tr>\n    <tr>\n      <th>3</th>\n      <td>0</td>\n    </tr>\n    <tr>\n      <th>4</th>\n      <td>0</td>\n    </tr>\n    <tr>\n      <th>5</th>\n      <td>0</td>\n    </tr>\n    <tr>\n      <th>6</th>\n      <td>1</td>\n    </tr>\n    <tr>\n      <th>7</th>\n      <td>1</td>\n    </tr>\n    <tr>\n      <th>8</th>\n      <td>0</td>\n    </tr>\n    <tr>\n      <th>9</th>\n      <td>0</td>\n    </tr>\n  </tbody>\n</table>\n</div>"
     },
     "execution_count": 17,
     "metadata": {},
     "output_type": "execute_result"
    }
   ],
   "source": [
    "df['Status'] = land_status\n",
    "df[['Status']].head(10)"
   ],
   "metadata": {
    "collapsed": false,
    "ExecuteTime": {
     "end_time": "2023-11-02T15:07:37.841780Z",
     "start_time": "2023-11-02T15:07:37.785458Z"
    }
   },
   "id": "a8958b641e6c7335"
  },
  {
   "cell_type": "markdown",
   "source": [
    "## Determine the Mean "
   ],
   "metadata": {
    "collapsed": false
   },
   "id": "b4445443cd8cc62"
  },
  {
   "cell_type": "code",
   "execution_count": 18,
   "outputs": [
    {
     "data": {
      "text/plain": "0.6666666666666666"
     },
     "execution_count": 18,
     "metadata": {},
     "output_type": "execute_result"
    }
   ],
   "source": [
    "# ok -cp -\n",
    "df['Status'].mean()"
   ],
   "metadata": {
    "collapsed": false,
    "ExecuteTime": {
     "end_time": "2023-11-02T15:07:37.842472Z",
     "start_time": "2023-11-02T15:07:37.790658Z"
    }
   },
   "id": "1ef817c39973e39f"
  },
  {
   "cell_type": "markdown",
   "source": [
    "Export the dataSet"
   ],
   "metadata": {
    "collapsed": false
   },
   "id": "fc3a71baf060694c"
  },
  {
   "cell_type": "code",
   "execution_count": 19,
   "outputs": [],
   "source": [
    "df.to_csv('dataSet_part_2.csv', index=False)"
   ],
   "metadata": {
    "collapsed": false,
    "ExecuteTime": {
     "end_time": "2023-11-02T15:07:37.872032Z",
     "start_time": "2023-11-02T15:07:37.795735Z"
    }
   },
   "id": "63211caf220746a7"
  },
  {
   "cell_type": "markdown",
   "source": [],
   "metadata": {
    "collapsed": false
   },
   "id": "ef522df75139563b"
  }
 ],
 "metadata": {
  "kernelspec": {
   "display_name": "Python 3",
   "language": "python",
   "name": "python3"
  },
  "language_info": {
   "codemirror_mode": {
    "name": "ipython",
    "version": 2
   },
   "file_extension": ".py",
   "mimetype": "text/x-python",
   "name": "python",
   "nbconvert_exporter": "python",
   "pygments_lexer": "ipython2",
   "version": "2.7.6"
  }
 },
 "nbformat": 4,
 "nbformat_minor": 5
}
