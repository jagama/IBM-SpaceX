{
 "cells": [
  {
   "cell_type": "markdown",
   "source": [
    "# Data Collection via SpaceX API\n"
   ],
   "metadata": {
    "collapsed": false
   }
  },
  {
   "cell_type": "code",
   "execution_count": 1,
   "outputs": [],
   "source": [
    "# requests allows HTTP requests  to get data from API\n",
    "# pandas for data manipulation and analysis\n",
    "# numPy support for arrays and matrices, along with mathematical functions\n",
    "# datetime allows dates representation\n",
    "\n",
    "import requests\n",
    "import pandas as pd\n",
    "import numpy as np\n",
    "import datetime"
   ],
   "metadata": {
    "collapsed": false,
    "ExecuteTime": {
     "end_time": "2023-11-02T15:00:07.241362Z",
     "start_time": "2023-11-02T15:00:07.175578Z"
    }
   }
  },
  {
   "cell_type": "markdown",
   "source": [
    "### Helper function definitions to extract data from API\n",
    "\n",
    "Target the <code> rocket </code> col and get the <code> booster </code> name"
   ],
   "metadata": {
    "collapsed": false
   }
  },
  {
   "cell_type": "code",
   "execution_count": 2,
   "outputs": [],
   "source": [
    "# get data from url, use rocket column to call API, extract data and append it to the list\n",
    "def getBoosterName(data):\n",
    "    for booster in data['rocket']:\n",
    "        if booster:\n",
    "            response = requests.get('https://api.spacexdata.com/v4/rockets/' + str(booster)).json()\n",
    "            BoosterName.append(response['name'])"
   ],
   "metadata": {
    "collapsed": false,
    "ExecuteTime": {
     "end_time": "2023-11-02T15:00:07.245860Z",
     "start_time": "2023-11-02T15:00:07.241979Z"
    }
   }
  },
  {
   "cell_type": "markdown",
   "source": [
    "Target the <code> site name </code>  and <code> Lat </code>, <code>Long </code>"
   ],
   "metadata": {
    "collapsed": false
   }
  },
  {
   "cell_type": "code",
   "execution_count": 3,
   "outputs": [],
   "source": [
    "# get data from url, use launchpad column to call API, extract data and append it to the list\n",
    "def getLaunchPad(data):\n",
    "    for pad in data['launchpad']:\n",
    "        if pad:\n",
    "            response = requests.get('https://api.spacexdata.com/v4/launchpads/' + str(pad)).json()\n",
    "            Longitude.append(response['longitude'])\n",
    "            Latitude.append(response['latitude'])\n",
    "            LaunchPad.append(response['name'])"
   ],
   "metadata": {
    "collapsed": false,
    "ExecuteTime": {
     "end_time": "2023-11-02T15:00:07.250014Z",
     "start_time": "2023-11-02T15:00:07.247Z"
    }
   }
  },
  {
   "cell_type": "markdown",
   "source": [
    "Target the <code>mass payload</code>  and  the final <code>orbit</code>"
   ],
   "metadata": {
    "collapsed": false
   }
  },
  {
   "cell_type": "code",
   "execution_count": 4,
   "outputs": [],
   "source": [
    "# get data from url, use payloads column to call API, extract data and append it to the list\n",
    "def getPayloadData(data):\n",
    "    for payload in data['payloads']:\n",
    "        if payload:\n",
    "            response = requests.get('https://api.spacexdata.com/v4/payloads/' + payload).json()\n",
    "            PayloadMass.append(response['mass_kg'])\n",
    "            FinalOrbit.append(response['orbit'])"
   ],
   "metadata": {
    "collapsed": false,
    "ExecuteTime": {
     "end_time": "2023-11-02T15:00:07.254806Z",
     "start_time": "2023-11-02T15:00:07.250110Z"
    }
   }
  },
  {
   "cell_type": "markdown",
   "source": [
    "Extract from <code>cores</code>:\n",
    "- landing outcome\n",
    "- landing type\n",
    "- number of flights with specific core\n",
    "- gridfins used or not\n",
    "- reused core\n",
    "- number of time specific core is reused\n",
    "- used legs\n",
    "- landing pad used\n",
    "- block number of the core\n",
    "- core serial"
   ],
   "metadata": {
    "collapsed": false
   }
  },
  {
   "cell_type": "code",
   "execution_count": 5,
   "outputs": [],
   "source": [
    "# get data from url, use cores column to call API, extract data and append it to the list\n",
    "def getCoresData(data):\n",
    "    for core in data['cores']:\n",
    "        if core['core'] is not None:\n",
    "            response = requests.get('https://api.spacexdata.com/v4/cores/' + core['core']).json()\n",
    "            Block.append(response['block'])\n",
    "            ReusedCount.append(response['reuse_count'])\n",
    "            Serial.append(response['serial'])\n",
    "        else:\n",
    "            Block.append(None)\n",
    "            ReusedCount.append(None)\n",
    "            Serial.append(None)\n",
    "        Outcome.append(str(core['landing_success']) + ' ' + str(core['landing_type']))\n",
    "        Flights.append(core['flight'])\n",
    "        GridFins.append(core['gridfins'])\n",
    "        Reused.append(core['reused'])\n",
    "        Legs.append(core['legs'])\n",
    "        LandPad.append(core['landpad'])"
   ],
   "metadata": {
    "collapsed": false,
    "ExecuteTime": {
     "end_time": "2023-11-02T15:00:07.258645Z",
     "start_time": "2023-11-02T15:00:07.255675Z"
    }
   }
  },
  {
   "cell_type": "code",
   "execution_count": 6,
   "outputs": [],
   "source": [
    "# get data from url, use cores column to call API, extract data and append it to the list\n",
    "def getFailuresData(data):\n",
    "    for core in data['cores']:\n",
    "        if core['core'] is not None:\n",
    "            response = requests.get('https://api.spacexdata.com/v4/cores/' + core['core']).json()\n",
    "            Failures.append(response['last_update'])\n",
    "        else:\n",
    "            Failures.append(None)"
   ],
   "metadata": {
    "collapsed": false,
    "ExecuteTime": {
     "end_time": "2023-11-02T15:00:07.262823Z",
     "start_time": "2023-11-02T15:00:07.258502Z"
    }
   }
  },
  {
   "cell_type": "markdown",
   "source": [
    "GET raw data from API"
   ],
   "metadata": {
    "collapsed": false
   }
  },
  {
   "cell_type": "code",
   "execution_count": 7,
   "outputs": [],
   "source": [
    "spacex_url = 'https://api.spacexdata.com/v4/launches/past'"
   ],
   "metadata": {
    "collapsed": false,
    "ExecuteTime": {
     "end_time": "2023-11-02T15:00:07.267088Z",
     "start_time": "2023-11-02T15:00:07.261378Z"
    }
   }
  },
  {
   "cell_type": "code",
   "execution_count": 8,
   "outputs": [],
   "source": [
    "res = requests.get(spacex_url)"
   ],
   "metadata": {
    "collapsed": false,
    "ExecuteTime": {
     "end_time": "2023-11-02T15:00:07.664322Z",
     "start_time": "2023-11-02T15:00:07.266188Z"
    }
   }
  },
  {
   "cell_type": "markdown",
   "source": [
    "## Request and parse SpaceX GET req"
   ],
   "metadata": {
    "collapsed": false
   }
  },
  {
   "cell_type": "code",
   "execution_count": 9,
   "outputs": [
    {
     "data": {
      "text/plain": "       static_fire_date_utc  static_fire_date_unix    net  window  \\\n0  2006-03-17T00:00:00.000Z           1.142554e+09  False     0.0   \n1                      None                    NaN  False     0.0   \n2                      None                    NaN  False     0.0   \n3  2008-09-20T00:00:00.000Z           1.221869e+09  False     0.0   \n4                      None                    NaN  False     0.0   \n\n                     rocket success  \\\n0  5e9d0d95eda69955f709d1eb   False   \n1  5e9d0d95eda69955f709d1eb   False   \n2  5e9d0d95eda69955f709d1eb   False   \n3  5e9d0d95eda69955f709d1eb    True   \n4  5e9d0d95eda69955f709d1eb    True   \n\n                                            failures  \\\n0  [{'time': 33, 'altitude': None, 'reason': 'mer...   \n1  [{'time': 301, 'altitude': 289, 'reason': 'har...   \n2  [{'time': 140, 'altitude': 35, 'reason': 'resi...   \n3                                                 []   \n4                                                 []   \n\n                                             details crew ships  ...  \\\n0   Engine failure at 33 seconds and loss of vehicle   []    []  ...   \n1  Successful first stage burn and transition to ...   []    []  ...   \n2  Residual stage 1 thrust led to collision betwe...   []    []  ...   \n3  Ratsat was carried to orbit on the first succe...   []    []  ...   \n4                                               None   []    []  ...   \n\n  links.reddit.media links.reddit.recovery links.flickr.small  \\\n0               None                  None                 []   \n1               None                  None                 []   \n2               None                  None                 []   \n3               None                  None                 []   \n4               None                  None                 []   \n\n   links.flickr.original                                     links.presskit  \\\n0                     []                                               None   \n1                     []                                               None   \n2                     []                                               None   \n3                     []                                               None   \n4                     []  http://www.spacex.com/press/2012/12/19/spacexs...   \n\n                                 links.webcast  links.youtube_id  \\\n0  https://www.youtube.com/watch?v=0a_00nJ_Y88       0a_00nJ_Y88   \n1  https://www.youtube.com/watch?v=Lk4zQ2wP-Nc       Lk4zQ2wP-Nc   \n2  https://www.youtube.com/watch?v=v0w9p3U8860       v0w9p3U8860   \n3  https://www.youtube.com/watch?v=dLQ2tZEH6G0       dLQ2tZEH6G0   \n4  https://www.youtube.com/watch?v=yTaIDooc8Og       yTaIDooc8Og   \n\n                                       links.article  \\\n0  https://www.space.com/2196-spacex-inaugural-fa...   \n1  https://www.space.com/3590-spacex-falcon-1-roc...   \n2  http://www.spacex.com/news/2013/02/11/falcon-1...   \n3               https://en.wikipedia.org/wiki/Ratsat   \n4  http://www.spacex.com/news/2013/02/12/falcon-1...   \n\n                                     links.wikipedia  fairings  \n0              https://en.wikipedia.org/wiki/DemoSat       NaN  \n1              https://en.wikipedia.org/wiki/DemoSat       NaN  \n2  https://en.wikipedia.org/wiki/Trailblazer_(sat...       NaN  \n3               https://en.wikipedia.org/wiki/Ratsat       NaN  \n4             https://en.wikipedia.org/wiki/RazakSAT       NaN  \n\n[5 rows x 43 columns]",
      "text/html": "<div>\n<style scoped>\n    .dataframe tbody tr th:only-of-type {\n        vertical-align: middle;\n    }\n\n    .dataframe tbody tr th {\n        vertical-align: top;\n    }\n\n    .dataframe thead th {\n        text-align: right;\n    }\n</style>\n<table border=\"1\" class=\"dataframe\">\n  <thead>\n    <tr style=\"text-align: right;\">\n      <th></th>\n      <th>static_fire_date_utc</th>\n      <th>static_fire_date_unix</th>\n      <th>net</th>\n      <th>window</th>\n      <th>rocket</th>\n      <th>success</th>\n      <th>failures</th>\n      <th>details</th>\n      <th>crew</th>\n      <th>ships</th>\n      <th>...</th>\n      <th>links.reddit.media</th>\n      <th>links.reddit.recovery</th>\n      <th>links.flickr.small</th>\n      <th>links.flickr.original</th>\n      <th>links.presskit</th>\n      <th>links.webcast</th>\n      <th>links.youtube_id</th>\n      <th>links.article</th>\n      <th>links.wikipedia</th>\n      <th>fairings</th>\n    </tr>\n  </thead>\n  <tbody>\n    <tr>\n      <th>0</th>\n      <td>2006-03-17T00:00:00.000Z</td>\n      <td>1.142554e+09</td>\n      <td>False</td>\n      <td>0.0</td>\n      <td>5e9d0d95eda69955f709d1eb</td>\n      <td>False</td>\n      <td>[{'time': 33, 'altitude': None, 'reason': 'mer...</td>\n      <td>Engine failure at 33 seconds and loss of vehicle</td>\n      <td>[]</td>\n      <td>[]</td>\n      <td>...</td>\n      <td>None</td>\n      <td>None</td>\n      <td>[]</td>\n      <td>[]</td>\n      <td>None</td>\n      <td>https://www.youtube.com/watch?v=0a_00nJ_Y88</td>\n      <td>0a_00nJ_Y88</td>\n      <td>https://www.space.com/2196-spacex-inaugural-fa...</td>\n      <td>https://en.wikipedia.org/wiki/DemoSat</td>\n      <td>NaN</td>\n    </tr>\n    <tr>\n      <th>1</th>\n      <td>None</td>\n      <td>NaN</td>\n      <td>False</td>\n      <td>0.0</td>\n      <td>5e9d0d95eda69955f709d1eb</td>\n      <td>False</td>\n      <td>[{'time': 301, 'altitude': 289, 'reason': 'har...</td>\n      <td>Successful first stage burn and transition to ...</td>\n      <td>[]</td>\n      <td>[]</td>\n      <td>...</td>\n      <td>None</td>\n      <td>None</td>\n      <td>[]</td>\n      <td>[]</td>\n      <td>None</td>\n      <td>https://www.youtube.com/watch?v=Lk4zQ2wP-Nc</td>\n      <td>Lk4zQ2wP-Nc</td>\n      <td>https://www.space.com/3590-spacex-falcon-1-roc...</td>\n      <td>https://en.wikipedia.org/wiki/DemoSat</td>\n      <td>NaN</td>\n    </tr>\n    <tr>\n      <th>2</th>\n      <td>None</td>\n      <td>NaN</td>\n      <td>False</td>\n      <td>0.0</td>\n      <td>5e9d0d95eda69955f709d1eb</td>\n      <td>False</td>\n      <td>[{'time': 140, 'altitude': 35, 'reason': 'resi...</td>\n      <td>Residual stage 1 thrust led to collision betwe...</td>\n      <td>[]</td>\n      <td>[]</td>\n      <td>...</td>\n      <td>None</td>\n      <td>None</td>\n      <td>[]</td>\n      <td>[]</td>\n      <td>None</td>\n      <td>https://www.youtube.com/watch?v=v0w9p3U8860</td>\n      <td>v0w9p3U8860</td>\n      <td>http://www.spacex.com/news/2013/02/11/falcon-1...</td>\n      <td>https://en.wikipedia.org/wiki/Trailblazer_(sat...</td>\n      <td>NaN</td>\n    </tr>\n    <tr>\n      <th>3</th>\n      <td>2008-09-20T00:00:00.000Z</td>\n      <td>1.221869e+09</td>\n      <td>False</td>\n      <td>0.0</td>\n      <td>5e9d0d95eda69955f709d1eb</td>\n      <td>True</td>\n      <td>[]</td>\n      <td>Ratsat was carried to orbit on the first succe...</td>\n      <td>[]</td>\n      <td>[]</td>\n      <td>...</td>\n      <td>None</td>\n      <td>None</td>\n      <td>[]</td>\n      <td>[]</td>\n      <td>None</td>\n      <td>https://www.youtube.com/watch?v=dLQ2tZEH6G0</td>\n      <td>dLQ2tZEH6G0</td>\n      <td>https://en.wikipedia.org/wiki/Ratsat</td>\n      <td>https://en.wikipedia.org/wiki/Ratsat</td>\n      <td>NaN</td>\n    </tr>\n    <tr>\n      <th>4</th>\n      <td>None</td>\n      <td>NaN</td>\n      <td>False</td>\n      <td>0.0</td>\n      <td>5e9d0d95eda69955f709d1eb</td>\n      <td>True</td>\n      <td>[]</td>\n      <td>None</td>\n      <td>[]</td>\n      <td>[]</td>\n      <td>...</td>\n      <td>None</td>\n      <td>None</td>\n      <td>[]</td>\n      <td>[]</td>\n      <td>http://www.spacex.com/press/2012/12/19/spacexs...</td>\n      <td>https://www.youtube.com/watch?v=yTaIDooc8Og</td>\n      <td>yTaIDooc8Og</td>\n      <td>http://www.spacex.com/news/2013/02/12/falcon-1...</td>\n      <td>https://en.wikipedia.org/wiki/RazakSAT</td>\n      <td>NaN</td>\n    </tr>\n  </tbody>\n</table>\n<p>5 rows × 43 columns</p>\n</div>"
     },
     "execution_count": 9,
     "metadata": {},
     "output_type": "execute_result"
    }
   ],
   "source": [
    "allData = pd.json_normalize(res.json())\n",
    "# print first 5 rows\n",
    "allData.head()"
   ],
   "metadata": {
    "collapsed": false,
    "ExecuteTime": {
     "end_time": "2023-11-02T15:00:07.694841Z",
     "start_time": "2023-11-02T15:00:07.674782Z"
    }
   }
  },
  {
   "cell_type": "markdown",
   "source": [
    "Turning IDs into something meaningful for each launch\n",
    "- use each specific ID to match each launch, so extract utils IDs and clean the data"
   ],
   "metadata": {
    "collapsed": false
   }
  },
  {
   "cell_type": "code",
   "execution_count": 10,
   "outputs": [],
   "source": [
    "# obtain data subset to work only with meaningful data from selected IDs to keep only selected features\n",
    "cleanData = allData[['rocket', 'payloads', 'launchpad', 'cores', 'flight_number', 'date_utc']]\n",
    "\n",
    "# remove rows with multiple cores => falcon rockets with extra rocket boosters and rows have multiple payloads in a single rocket.\n",
    "cleanData = cleanData[cleanData['cores'].map(len) == 1]\n",
    "cleanData = cleanData[cleanData['payloads'].map(len) == 1]\n",
    "\n",
    "# payloads and cores are lists size 1 => extract single value in the list and replace\n",
    "cleanData['cores'] = cleanData['cores'].map(lambda x : x[0])\n",
    "cleanData['payloads'] = cleanData['payloads'].map(lambda x : x[0])\n",
    "\n",
    "# utc date to datetime dataType and extract date leaving time\n",
    "cleanData['date'] = pd.to_datetime(cleanData['date_utc']).dt.date\n",
    "\n",
    "# restrict launch dates with date\n",
    "cleanData = cleanData[cleanData['date'] <= datetime.date(2020, 11, 13)]"
   ],
   "metadata": {
    "collapsed": false,
    "ExecuteTime": {
     "end_time": "2023-11-02T15:00:07.701632Z",
     "start_time": "2023-11-02T15:00:07.699582Z"
    }
   }
  },
  {
   "cell_type": "code",
   "execution_count": 11,
   "outputs": [],
   "source": [
    "#Global variables\n",
    "LaunchPad = []\n",
    "Longitude = []\n",
    "Latitude = []\n",
    "Serial = []\n",
    "BoosterName = []\n",
    "Flights = []\n",
    "Reused = []\n",
    "ReusedCount = []\n",
    "Block = []\n",
    "Legs = []\n",
    "GridFins = []\n",
    "PayloadMass = []\n",
    "FinalOrbit = []\n",
    "LandPad = []\n",
    "Outcome = []\n",
    "Failures = []"
   ],
   "metadata": {
    "collapsed": false,
    "ExecuteTime": {
     "end_time": "2023-11-02T15:00:07.706317Z",
     "start_time": "2023-11-02T15:00:07.702566Z"
    }
   }
  },
  {
   "cell_type": "code",
   "execution_count": 12,
   "outputs": [],
   "source": [
    "getBoosterName(cleanData)\n",
    "getLaunchPad(cleanData)\n",
    "getCoresData(cleanData)\n",
    "getPayloadData(cleanData)\n",
    "getFailuresData(cleanData)"
   ],
   "metadata": {
    "collapsed": false,
    "ExecuteTime": {
     "end_time": "2023-11-02T15:01:47.000240Z",
     "start_time": "2023-11-02T15:00:07.707071Z"
    }
   }
  },
  {
   "cell_type": "markdown",
   "source": [
    "Combine columns into a dictionary to build the cleaned dataset"
   ],
   "metadata": {
    "collapsed": false
   }
  },
  {
   "cell_type": "code",
   "execution_count": 13,
   "outputs": [],
   "source": [
    "launch_dict = {\n",
    "    'FlightNumber':list(cleanData['flight_number']),\n",
    "    'Date': list(cleanData['date']),\n",
    "    'Outcome':Outcome,\n",
    "    'Serial':Serial,\n",
    "    'BoosterName':BoosterName,\n",
    "    'Flights':Flights,\n",
    "    'Reused':Reused,\n",
    "    'ReusedCount':ReusedCount,\n",
    "    'Block':Block,\n",
    "    'Legs':Legs,\n",
    "    'GridFins':GridFins,\n",
    "    'PayloadMass':PayloadMass,\n",
    "    'FinalOrbit':FinalOrbit,\n",
    "    'LaunchPad': LaunchPad,\n",
    "    'LandPad':LandPad,\n",
    "    'Latitude':Latitude,\n",
    "    'Longitude':Longitude,\n",
    "    'Failures':Failures\n",
    "}"
   ],
   "metadata": {
    "collapsed": false,
    "ExecuteTime": {
     "end_time": "2023-11-02T15:01:47.016867Z",
     "start_time": "2023-11-02T15:01:47.010897Z"
    }
   }
  },
  {
   "cell_type": "markdown",
   "source": [
    "Create pd dataframe from the dictionary"
   ],
   "metadata": {
    "collapsed": false
   }
  },
  {
   "cell_type": "code",
   "execution_count": 14,
   "outputs": [
    {
     "data": {
      "text/plain": "   FlightNumber        Date    Outcome    Serial BoosterName  Flights  Reused  \\\n0             1  2006-03-24  None None  Merlin1A    Falcon 1        1   False   \n1             2  2007-03-21  None None  Merlin2A    Falcon 1        1   False   \n2             4  2008-09-28  None None  Merlin2C    Falcon 1        1   False   \n3             5  2009-07-13  None None  Merlin3C    Falcon 1        1   False   \n4             6  2010-06-04  None None     B0003    Falcon 9        1   False   \n\n   ReusedCount  Block   Legs  GridFins  PayloadMass FinalOrbit  \\\n0            0    NaN  False     False         20.0        LEO   \n1            0    NaN  False     False          NaN        LEO   \n2            0    NaN  False     False        165.0        LEO   \n3            0    NaN  False     False        200.0        LEO   \n4            0    1.0  False     False          NaN        LEO   \n\n         LaunchPad LandPad   Latitude   Longitude  \\\n0  Kwajalein Atoll    None   9.047721  167.743129   \n1  Kwajalein Atoll    None   9.047721  167.743129   \n2  Kwajalein Atoll    None   9.047721  167.743129   \n3  Kwajalein Atoll    None   9.047721  167.743129   \n4     CCSFS SLC 40    None  28.561857  -80.577366   \n\n                                            Failures  \n0  Engine failure at T+33 seconds resulted in los...  \n1  Successful first-stage burn and transition to ...  \n2  Initially scheduled for 23–25 Sep, carried dum...  \n3                                               None  \n4                                     Stage Expended  ",
      "text/html": "<div>\n<style scoped>\n    .dataframe tbody tr th:only-of-type {\n        vertical-align: middle;\n    }\n\n    .dataframe tbody tr th {\n        vertical-align: top;\n    }\n\n    .dataframe thead th {\n        text-align: right;\n    }\n</style>\n<table border=\"1\" class=\"dataframe\">\n  <thead>\n    <tr style=\"text-align: right;\">\n      <th></th>\n      <th>FlightNumber</th>\n      <th>Date</th>\n      <th>Outcome</th>\n      <th>Serial</th>\n      <th>BoosterName</th>\n      <th>Flights</th>\n      <th>Reused</th>\n      <th>ReusedCount</th>\n      <th>Block</th>\n      <th>Legs</th>\n      <th>GridFins</th>\n      <th>PayloadMass</th>\n      <th>FinalOrbit</th>\n      <th>LaunchPad</th>\n      <th>LandPad</th>\n      <th>Latitude</th>\n      <th>Longitude</th>\n      <th>Failures</th>\n    </tr>\n  </thead>\n  <tbody>\n    <tr>\n      <th>0</th>\n      <td>1</td>\n      <td>2006-03-24</td>\n      <td>None None</td>\n      <td>Merlin1A</td>\n      <td>Falcon 1</td>\n      <td>1</td>\n      <td>False</td>\n      <td>0</td>\n      <td>NaN</td>\n      <td>False</td>\n      <td>False</td>\n      <td>20.0</td>\n      <td>LEO</td>\n      <td>Kwajalein Atoll</td>\n      <td>None</td>\n      <td>9.047721</td>\n      <td>167.743129</td>\n      <td>Engine failure at T+33 seconds resulted in los...</td>\n    </tr>\n    <tr>\n      <th>1</th>\n      <td>2</td>\n      <td>2007-03-21</td>\n      <td>None None</td>\n      <td>Merlin2A</td>\n      <td>Falcon 1</td>\n      <td>1</td>\n      <td>False</td>\n      <td>0</td>\n      <td>NaN</td>\n      <td>False</td>\n      <td>False</td>\n      <td>NaN</td>\n      <td>LEO</td>\n      <td>Kwajalein Atoll</td>\n      <td>None</td>\n      <td>9.047721</td>\n      <td>167.743129</td>\n      <td>Successful first-stage burn and transition to ...</td>\n    </tr>\n    <tr>\n      <th>2</th>\n      <td>4</td>\n      <td>2008-09-28</td>\n      <td>None None</td>\n      <td>Merlin2C</td>\n      <td>Falcon 1</td>\n      <td>1</td>\n      <td>False</td>\n      <td>0</td>\n      <td>NaN</td>\n      <td>False</td>\n      <td>False</td>\n      <td>165.0</td>\n      <td>LEO</td>\n      <td>Kwajalein Atoll</td>\n      <td>None</td>\n      <td>9.047721</td>\n      <td>167.743129</td>\n      <td>Initially scheduled for 23–25 Sep, carried dum...</td>\n    </tr>\n    <tr>\n      <th>3</th>\n      <td>5</td>\n      <td>2009-07-13</td>\n      <td>None None</td>\n      <td>Merlin3C</td>\n      <td>Falcon 1</td>\n      <td>1</td>\n      <td>False</td>\n      <td>0</td>\n      <td>NaN</td>\n      <td>False</td>\n      <td>False</td>\n      <td>200.0</td>\n      <td>LEO</td>\n      <td>Kwajalein Atoll</td>\n      <td>None</td>\n      <td>9.047721</td>\n      <td>167.743129</td>\n      <td>None</td>\n    </tr>\n    <tr>\n      <th>4</th>\n      <td>6</td>\n      <td>2010-06-04</td>\n      <td>None None</td>\n      <td>B0003</td>\n      <td>Falcon 9</td>\n      <td>1</td>\n      <td>False</td>\n      <td>0</td>\n      <td>1.0</td>\n      <td>False</td>\n      <td>False</td>\n      <td>NaN</td>\n      <td>LEO</td>\n      <td>CCSFS SLC 40</td>\n      <td>None</td>\n      <td>28.561857</td>\n      <td>-80.577366</td>\n      <td>Stage Expended</td>\n    </tr>\n  </tbody>\n</table>\n</div>"
     },
     "execution_count": 14,
     "metadata": {},
     "output_type": "execute_result"
    }
   ],
   "source": [
    "launch_data = pd.DataFrame(launch_dict)\n",
    "\n",
    "# show first 5 rows\n",
    "launch_data.head()"
   ],
   "metadata": {
    "collapsed": false,
    "ExecuteTime": {
     "end_time": "2023-11-02T15:01:47.035886Z",
     "start_time": "2023-11-02T15:01:47.020283Z"
    }
   }
  },
  {
   "cell_type": "markdown",
   "source": [
    "## Display only Falcon 9 entries"
   ],
   "metadata": {
    "collapsed": false
   }
  },
  {
   "cell_type": "code",
   "execution_count": 15,
   "outputs": [
    {
     "name": "stderr",
     "output_type": "stream",
     "text": [
      "/var/folders/3v/sy40fy1567x17kcqbmp_5cth0000gn/T/ipykernel_4838/3474363915.py:4: SettingWithCopyWarning: \n",
      "A value is trying to be set on a copy of a slice from a DataFrame.\n",
      "Try using .loc[row_indexer,col_indexer] = value instead\n",
      "\n",
      "See the caveats in the documentation: https://pandas.pydata.org/pandas-docs/stable/user_guide/indexing.html#returning-a-view-versus-a-copy\n",
      "  falcon9_data.loc[:, 'FlightNumber'] = list(range(1, falcon9_data.shape[0] + 1))\n"
     ]
    }
   ],
   "source": [
    "falcon9_data = launch_data[launch_data['BoosterName'] != 'Falcon 1']\n",
    "\n",
    "# reset FlightNumber column\n",
    "falcon9_data.loc[:, 'FlightNumber'] = list(range(1, falcon9_data.shape[0] + 1))"
   ],
   "metadata": {
    "collapsed": false,
    "ExecuteTime": {
     "end_time": "2023-11-02T15:01:47.042823Z",
     "start_time": "2023-11-02T15:01:47.038342Z"
    }
   }
  },
  {
   "cell_type": "markdown",
   "source": [
    "# Data Wrangling"
   ],
   "metadata": {
    "collapsed": false
   }
  },
  {
   "cell_type": "code",
   "execution_count": 16,
   "outputs": [
    {
     "data": {
      "text/plain": "FlightNumber     0\nDate             0\nOutcome          0\nSerial           0\nBoosterName      0\nFlights          0\nReused           0\nReusedCount      0\nBlock            0\nLegs             0\nGridFins         0\nPayloadMass      5\nFinalOrbit       0\nLaunchPad        0\nLandPad         26\nLatitude         0\nLongitude        0\nFailures         7\ndtype: int64"
     },
     "execution_count": 16,
     "metadata": {},
     "output_type": "execute_result"
    }
   ],
   "source": [
    "# check rows with missing values\n",
    "falcon9_data.isnull().sum()"
   ],
   "metadata": {
    "collapsed": false,
    "ExecuteTime": {
     "end_time": "2023-11-02T15:01:47.048193Z",
     "start_time": "2023-11-02T15:01:47.044840Z"
    }
   }
  },
  {
   "cell_type": "markdown",
   "source": [
    "In order to deal with missing values, the best practice is to calculate the mean for the <code>payload mass</code>\n",
    "Then use the <code>mean</code> to replace the missing values whit it"
   ],
   "metadata": {
    "collapsed": false
   }
  },
  {
   "cell_type": "code",
   "execution_count": 17,
   "outputs": [
    {
     "name": "stderr",
     "output_type": "stream",
     "text": [
      "/var/folders/3v/sy40fy1567x17kcqbmp_5cth0000gn/T/ipykernel_4838/3810423428.py:5: SettingWithCopyWarning: \n",
      "A value is trying to be set on a copy of a slice from a DataFrame\n",
      "\n",
      "See the caveats in the documentation: https://pandas.pydata.org/pandas-docs/stable/user_guide/indexing.html#returning-a-view-versus-a-copy\n",
      "  falcon9_data['PayloadMass'].replace(np.nan, payloadMean, inplace=True)\n"
     ]
    }
   ],
   "source": [
    "# calculate the mean\n",
    "payloadMean = falcon9_data['PayloadMass'].mean()\n",
    "\n",
    "# replace missing values with the mean\n",
    "falcon9_data['PayloadMass'].replace(np.nan, payloadMean, inplace=True)"
   ],
   "metadata": {
    "collapsed": false,
    "ExecuteTime": {
     "end_time": "2023-11-02T15:01:47.052464Z",
     "start_time": "2023-11-02T15:01:47.049721Z"
    }
   }
  },
  {
   "cell_type": "markdown",
   "source": [
    "Export all data to CSV"
   ],
   "metadata": {
    "collapsed": false
   }
  },
  {
   "cell_type": "code",
   "execution_count": 18,
   "outputs": [],
   "source": [
    "falcon9_data.to_csv('dataset1.csv', index=False)"
   ],
   "metadata": {
    "collapsed": false,
    "ExecuteTime": {
     "end_time": "2023-11-02T15:01:47.081263Z",
     "start_time": "2023-11-02T15:01:47.053775Z"
    }
   }
  }
 ],
 "metadata": {
  "kernelspec": {
   "display_name": "Python 3",
   "language": "python",
   "name": "python3"
  },
  "language_info": {
   "codemirror_mode": {
    "name": "ipython",
    "version": 2
   },
   "file_extension": ".py",
   "mimetype": "text/x-python",
   "name": "python",
   "nbconvert_exporter": "python",
   "pygments_lexer": "ipython2",
   "version": "2.7.6"
  }
 },
 "nbformat": 4,
 "nbformat_minor": 0
}
