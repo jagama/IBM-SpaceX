{
 "cells": [
  {
   "cell_type": "markdown",
   "source": [
    "# Data SQL Manipulation"
   ],
   "metadata": {
    "collapsed": false
   },
   "id": "229b2de39bc5ca8d"
  },
  {
   "cell_type": "code",
   "execution_count": 1,
   "outputs": [
    {
     "name": "stdout",
     "output_type": "stream",
     "text": [
      "Requirement already satisfied: mysql-connector-python in /Users/js/anaconda3/envs/SpaceX/lib/python3.10/site-packages (8.2.0)\r\n",
      "Requirement already satisfied: protobuf<=4.21.12,>=4.21.1 in /Users/js/anaconda3/envs/SpaceX/lib/python3.10/site-packages (from mysql-connector-python) (4.21.12)\r\n"
     ]
    }
   ],
   "source": [
    "!pip install mysql-connector-python"
   ],
   "metadata": {
    "collapsed": false,
    "ExecuteTime": {
     "end_time": "2023-11-02T15:04:44.849108Z",
     "start_time": "2023-11-02T15:04:44.074180Z"
    }
   },
   "id": "96b3a024da9a0e8b"
  },
  {
   "cell_type": "code",
   "execution_count": 2,
   "outputs": [
    {
     "data": {
      "text/plain": "[('ibm',),\n ('information_schema',),\n ('mysql',),\n ('performance_schema',),\n ('sys',)]"
     },
     "execution_count": 2,
     "metadata": {},
     "output_type": "execute_result"
    }
   ],
   "source": [
    "import mysql.connector as connection\n",
    "data_db = connection.connect(host = '%env', user = '%env', password = '%env', db = '%env')\n",
    "cursor = data_db.cursor()\n",
    "\n",
    "cursor.execute('show databases')\n",
    "cursor.fetchall()"
   ],
   "metadata": {
    "collapsed": false,
    "ExecuteTime": {
     "end_time": "2023-11-02T15:04:45.011356Z",
     "start_time": "2023-11-02T15:04:44.850197Z"
    }
   },
   "id": "cb2645c3a1599d79"
  },
  {
   "cell_type": "code",
   "execution_count": 3,
   "outputs": [
    {
     "data": {
      "text/plain": "[('ChicagoCensusData',),\n ('ChicagoCrimeData_xsl',),\n ('ChicagoPublicSchools',),\n ('dataSet_part_1',),\n ('dataSet_part_2',)]"
     },
     "execution_count": 3,
     "metadata": {},
     "output_type": "execute_result"
    }
   ],
   "source": [
    "cursor.execute('use ibm')\n",
    "cursor.execute('show tables')\n",
    "cursor.fetchall()"
   ],
   "metadata": {
    "collapsed": false,
    "ExecuteTime": {
     "end_time": "2023-11-02T15:04:45.022090Z",
     "start_time": "2023-11-02T15:04:45.011777Z"
    }
   },
   "id": "c179021cc0444236"
  },
  {
   "cell_type": "markdown",
   "source": [
    "## SQL Queries"
   ],
   "metadata": {
    "collapsed": false
   },
   "id": "1e4737d370ee1311"
  },
  {
   "cell_type": "code",
   "execution_count": 4,
   "outputs": [
    {
     "name": "stdout",
     "output_type": "stream",
     "text": [
      "90\n"
     ]
    }
   ],
   "source": [
    "import pandas as pd\n",
    "\n",
    "# extract all data\n",
    "cursor.execute(\"select * from dataSet_part_1\")\n",
    "data = cursor.fetchall()\n",
    "df = pd.DataFrame(data)\n",
    "\n",
    "# find rows amount\n",
    "count_row = df.shape[0]\n",
    "print(count_row)"
   ],
   "metadata": {
    "collapsed": false,
    "ExecuteTime": {
     "end_time": "2023-11-02T15:04:45.032917Z",
     "start_time": "2023-11-02T15:04:45.020174Z"
    }
   },
   "id": "690562ca9b87c41c"
  },
  {
   "cell_type": "code",
   "execution_count": 5,
   "outputs": [
    {
     "name": "stdout",
     "output_type": "stream",
     "text": [
      "              0\n",
      "0  CCAFS SLC 40\n",
      "1   VAFB SLC 4E\n",
      "2    KSC LC 39A\n"
     ]
    }
   ],
   "source": [
    "cursor.execute(\"select distinct LaunchSite from dataSet_part_1\")\n",
    "launch_data = cursor.fetchall()\n",
    "df = pd.DataFrame(launch_data)\n",
    "print(df)"
   ],
   "metadata": {
    "collapsed": false,
    "ExecuteTime": {
     "end_time": "2023-11-02T15:04:45.070438Z",
     "start_time": "2023-11-02T15:04:45.031043Z"
    }
   },
   "id": "dcd222ab48085d32"
  },
  {
   "cell_type": "code",
   "execution_count": 6,
   "outputs": [
    {
     "name": "stdout",
     "output_type": "stream",
     "text": [
      "   0           1         2            3    4             5          6   7   \\\n",
      "0   1  2010-06-04  Falcon 9  6104.959412  LEO  CCAFS SLC 40  None None   1   \n",
      "1   2  2012-05-22  Falcon 9   525.000000  LEO  CCAFS SLC 40  None None   1   \n",
      "2   3  2013-03-01  Falcon 9   677.000000  ISS  CCAFS SLC 40  None None   1   \n",
      "3   5  2013-12-03  Falcon 9  3170.000000  GTO  CCAFS SLC 40  None None   1   \n",
      "4   6  2014-01-06  Falcon 9  3325.000000  GTO  CCAFS SLC 40  None None   1   \n",
      "\n",
      "      8      9      10    11   12  13     14         15         16  \n",
      "0  False  False  False  None  1.0   0  B0003 -80.577366  28.561857  \n",
      "1  False  False  False  None  1.0   0  B0005 -80.577366  28.561857  \n",
      "2  False  False  False  None  1.0   0  B0007 -80.577366  28.561857  \n",
      "3  False  False  False  None  1.0   0  B1004 -80.577366  28.561857  \n",
      "4  False  False  False  None  1.0   0  B1005 -80.577366  28.561857  \n"
     ]
    }
   ],
   "source": [
    "cursor.execute(\"select * from dataSet_part_1 where LaunchSite like 'CCA%' limit 5\")\n",
    "launch_data = cursor.fetchall()\n",
    "df = pd.DataFrame(launch_data)\n",
    "print(df)"
   ],
   "metadata": {
    "collapsed": false,
    "ExecuteTime": {
     "end_time": "2023-11-02T15:04:45.071232Z",
     "start_time": "2023-11-02T15:04:45.036672Z"
    }
   },
   "id": "f8a1d59461531655"
  },
  {
   "cell_type": "code",
   "execution_count": 7,
   "outputs": [
    {
     "name": "stdout",
     "output_type": "stream",
     "text": [
      "         0\n",
      "0  68878.7\n"
     ]
    }
   ],
   "source": [
    "cursor.execute(\"select sum(PayloadMass) from dataSet_part_1 where Orbit = 'ISS'\") # currently in my dataSet not customer NASA, so opted for ISS customer\n",
    "launch_data = cursor.fetchall()\n",
    "df = pd.DataFrame(launch_data)\n",
    "print(df)"
   ],
   "metadata": {
    "collapsed": false,
    "ExecuteTime": {
     "end_time": "2023-11-02T15:04:45.071511Z",
     "start_time": "2023-11-02T15:04:45.045635Z"
    }
   },
   "id": "317ab77f079e9fba"
  },
  {
   "cell_type": "code",
   "execution_count": 8,
   "outputs": [
    {
     "name": "stdout",
     "output_type": "stream",
     "text": [
      "             0\n",
      "0  6104.959412\n"
     ]
    }
   ],
   "source": [
    "cursor.execute(\"select avg(PayloadMass) from dataSet_part_1 where BoosterVersion = 'Falcon 9' limit 5\")\n",
    "launch_data = cursor.fetchall()\n",
    "df = pd.DataFrame(launch_data)\n",
    "print(df)"
   ],
   "metadata": {
    "collapsed": false,
    "ExecuteTime": {
     "end_time": "2023-11-02T15:04:45.072169Z",
     "start_time": "2023-11-02T15:04:45.051044Z"
    }
   },
   "id": "83375312b59f2e5"
  },
  {
   "cell_type": "code",
   "execution_count": 9,
   "outputs": [
    {
     "name": "stdout",
     "output_type": "stream",
     "text": [
      "            0\n",
      "0  2016-04-08\n"
     ]
    }
   ],
   "source": [
    "cursor.execute(\"select min(DATE) from dataSet_part_1 where Outcome = 'True ASDS'\") # success\n",
    "launch_data = cursor.fetchall()\n",
    "df = pd.DataFrame(launch_data)\n",
    "print(df)"
   ],
   "metadata": {
    "collapsed": false,
    "ExecuteTime": {
     "end_time": "2023-11-02T15:04:45.072346Z",
     "start_time": "2023-11-02T15:04:45.056319Z"
    }
   },
   "id": "c1a2883d6b747224"
  },
  {
   "cell_type": "code",
   "execution_count": 10,
   "outputs": [
    {
     "name": "stdout",
     "output_type": "stream",
     "text": [
      "        0\n",
      "0   False\n",
      "1   False\n",
      "2   False\n",
      "3   False\n",
      "4   False\n",
      "..    ...\n",
      "85   True\n",
      "86   True\n",
      "87   True\n",
      "88   True\n",
      "89   True\n",
      "\n",
      "[90 rows x 1 columns]\n"
     ]
    }
   ],
   "source": [
    "cursor.execute(\"select Legs from dataSet_part_1\") # currently in my dataSet not type of payload, so opted for Legs used => True || False\n",
    "launch_data = cursor.fetchall()\n",
    "df = pd.DataFrame(launch_data)\n",
    "print(df)"
   ],
   "metadata": {
    "collapsed": false,
    "ExecuteTime": {
     "end_time": "2023-11-02T15:04:45.073296Z",
     "start_time": "2023-11-02T15:04:45.063660Z"
    }
   },
   "id": "ceb316e9ff4eb8c9"
  },
  {
   "cell_type": "code",
   "execution_count": 11,
   "outputs": [
    {
     "name": "stdout",
     "output_type": "stream",
     "text": [
      "             0   1\n",
      "0    None None  19\n",
      "1  False Ocean   2\n",
      "2   True Ocean   5\n",
      "3   False ASDS   6\n",
      "4    None ASDS   2\n",
      "5    True RTLS  14\n",
      "6    True ASDS  41\n",
      "7   False RTLS   1\n"
     ]
    }
   ],
   "source": [
    "cursor.execute(\"select Outcome, count(*) as total_number from dataSet_part_1 group by Outcome\") \n",
    "launch_data = cursor.fetchall()\n",
    "df = pd.DataFrame(launch_data)\n",
    "print(df)"
   ],
   "metadata": {
    "collapsed": false,
    "ExecuteTime": {
     "end_time": "2023-11-02T15:04:45.074850Z",
     "start_time": "2023-11-02T15:04:45.067732Z"
    }
   },
   "id": "703c07defcecab49"
  },
  {
   "cell_type": "code",
   "execution_count": 12,
   "outputs": [
    {
     "ename": "ProgrammingError",
     "evalue": "1064 (42000): You have an error in your SQL syntax; check the manual that corresponds to your MySQL server version for the right syntax to use near '' at line 1",
     "output_type": "error",
     "traceback": [
      "\u001B[0;31m---------------------------------------------------------------------------\u001B[0m",
      "\u001B[0;31mMySQLInterfaceError\u001B[0m                       Traceback (most recent call last)",
      "File \u001B[0;32m~/anaconda3/envs/SpaceX/lib/python3.10/site-packages/mysql/connector/connection_cext.py:639\u001B[0m, in \u001B[0;36mCMySQLConnection.cmd_query\u001B[0;34m(self, query, raw, buffered, raw_as_string)\u001B[0m\n\u001B[1;32m    638\u001B[0m         query \u001B[38;5;241m=\u001B[39m query\u001B[38;5;241m.\u001B[39mencode(\u001B[38;5;124m\"\u001B[39m\u001B[38;5;124mutf-8\u001B[39m\u001B[38;5;124m\"\u001B[39m)\n\u001B[0;32m--> 639\u001B[0m     \u001B[38;5;28;43mself\u001B[39;49m\u001B[38;5;241;43m.\u001B[39;49m\u001B[43m_cmysql\u001B[49m\u001B[38;5;241;43m.\u001B[39;49m\u001B[43mquery\u001B[49m\u001B[43m(\u001B[49m\n\u001B[1;32m    640\u001B[0m \u001B[43m        \u001B[49m\u001B[43mquery\u001B[49m\u001B[43m,\u001B[49m\n\u001B[1;32m    641\u001B[0m \u001B[43m        \u001B[49m\u001B[43mraw\u001B[49m\u001B[38;5;241;43m=\u001B[39;49m\u001B[43mraw\u001B[49m\u001B[43m,\u001B[49m\n\u001B[1;32m    642\u001B[0m \u001B[43m        \u001B[49m\u001B[43mbuffered\u001B[49m\u001B[38;5;241;43m=\u001B[39;49m\u001B[43mbuffered\u001B[49m\u001B[43m,\u001B[49m\n\u001B[1;32m    643\u001B[0m \u001B[43m        \u001B[49m\u001B[43mraw_as_string\u001B[49m\u001B[38;5;241;43m=\u001B[39;49m\u001B[43mraw_as_string\u001B[49m\u001B[43m,\u001B[49m\n\u001B[1;32m    644\u001B[0m \u001B[43m        \u001B[49m\u001B[43mquery_attrs\u001B[49m\u001B[38;5;241;43m=\u001B[39;49m\u001B[38;5;28;43mself\u001B[39;49m\u001B[38;5;241;43m.\u001B[39;49m\u001B[43mquery_attrs\u001B[49m\u001B[43m,\u001B[49m\n\u001B[1;32m    645\u001B[0m \u001B[43m    \u001B[49m\u001B[43m)\u001B[49m\n\u001B[1;32m    646\u001B[0m \u001B[38;5;28;01mexcept\u001B[39;00m MySQLInterfaceError \u001B[38;5;28;01mas\u001B[39;00m err:\n",
      "\u001B[0;31mMySQLInterfaceError\u001B[0m: You have an error in your SQL syntax; check the manual that corresponds to your MySQL server version for the right syntax to use near '' at line 1",
      "\nThe above exception was the direct cause of the following exception:\n",
      "\u001B[0;31mProgrammingError\u001B[0m                          Traceback (most recent call last)",
      "Cell \u001B[0;32mIn[12], line 1\u001B[0m\n\u001B[0;32m----> 1\u001B[0m \u001B[43mcursor\u001B[49m\u001B[38;5;241;43m.\u001B[39;49m\u001B[43mexecute\u001B[49m\u001B[43m(\u001B[49m\u001B[38;5;124;43m\"\u001B[39;49m\u001B[38;5;124;43mselect BoosterVersion from dataSet_part_1 where PayloadMass = (select max(PayloadMass) from dataSet_part_1\u001B[39;49m\u001B[38;5;124;43m\"\u001B[39;49m\u001B[43m)\u001B[49m\n\u001B[1;32m      2\u001B[0m launch_data \u001B[38;5;241m=\u001B[39m cursor\u001B[38;5;241m.\u001B[39mfetchall()\n\u001B[1;32m      3\u001B[0m df \u001B[38;5;241m=\u001B[39m pd\u001B[38;5;241m.\u001B[39mDataFrame(launch_data)\n",
      "File \u001B[0;32m~/anaconda3/envs/SpaceX/lib/python3.10/site-packages/mysql/connector/cursor_cext.py:330\u001B[0m, in \u001B[0;36mCMySQLCursor.execute\u001B[0;34m(self, operation, params, multi)\u001B[0m\n\u001B[1;32m    325\u001B[0m             \u001B[38;5;28;01mraise\u001B[39;00m ProgrammingError(\n\u001B[1;32m    326\u001B[0m                 \u001B[38;5;124m\"\u001B[39m\u001B[38;5;124mNot all parameters were used in the SQL statement\u001B[39m\u001B[38;5;124m\"\u001B[39m\n\u001B[1;32m    327\u001B[0m             )\n\u001B[1;32m    329\u001B[0m \u001B[38;5;28;01mtry\u001B[39;00m:\n\u001B[0;32m--> 330\u001B[0m     result \u001B[38;5;241m=\u001B[39m \u001B[38;5;28;43mself\u001B[39;49m\u001B[38;5;241;43m.\u001B[39;49m\u001B[43m_cnx\u001B[49m\u001B[38;5;241;43m.\u001B[39;49m\u001B[43mcmd_query\u001B[49m\u001B[43m(\u001B[49m\n\u001B[1;32m    331\u001B[0m \u001B[43m        \u001B[49m\u001B[43mstmt\u001B[49m\u001B[43m,\u001B[49m\n\u001B[1;32m    332\u001B[0m \u001B[43m        \u001B[49m\u001B[43mraw\u001B[49m\u001B[38;5;241;43m=\u001B[39;49m\u001B[38;5;28;43mself\u001B[39;49m\u001B[38;5;241;43m.\u001B[39;49m\u001B[43m_raw\u001B[49m\u001B[43m,\u001B[49m\n\u001B[1;32m    333\u001B[0m \u001B[43m        \u001B[49m\u001B[43mbuffered\u001B[49m\u001B[38;5;241;43m=\u001B[39;49m\u001B[38;5;28;43mself\u001B[39;49m\u001B[38;5;241;43m.\u001B[39;49m\u001B[43m_buffered\u001B[49m\u001B[43m,\u001B[49m\n\u001B[1;32m    334\u001B[0m \u001B[43m        \u001B[49m\u001B[43mraw_as_string\u001B[49m\u001B[38;5;241;43m=\u001B[39;49m\u001B[38;5;28;43mself\u001B[39;49m\u001B[38;5;241;43m.\u001B[39;49m\u001B[43m_raw_as_string\u001B[49m\u001B[43m,\u001B[49m\n\u001B[1;32m    335\u001B[0m \u001B[43m    \u001B[49m\u001B[43m)\u001B[49m\n\u001B[1;32m    336\u001B[0m \u001B[38;5;28;01mexcept\u001B[39;00m MySQLInterfaceError \u001B[38;5;28;01mas\u001B[39;00m err:\n\u001B[1;32m    337\u001B[0m     \u001B[38;5;28;01mraise\u001B[39;00m get_mysql_exception(\n\u001B[1;32m    338\u001B[0m         msg\u001B[38;5;241m=\u001B[39merr\u001B[38;5;241m.\u001B[39mmsg, errno\u001B[38;5;241m=\u001B[39merr\u001B[38;5;241m.\u001B[39merrno, sqlstate\u001B[38;5;241m=\u001B[39merr\u001B[38;5;241m.\u001B[39msqlstate\n\u001B[1;32m    339\u001B[0m     ) \u001B[38;5;28;01mfrom\u001B[39;00m \u001B[38;5;21;01merr\u001B[39;00m\n",
      "File \u001B[0;32m~/anaconda3/envs/SpaceX/lib/python3.10/site-packages/mysql/connector/opentelemetry/context_propagation.py:77\u001B[0m, in \u001B[0;36mwith_context_propagation.<locals>.wrapper\u001B[0;34m(cnx, *args, **kwargs)\u001B[0m\n\u001B[1;32m     75\u001B[0m \u001B[38;5;250m\u001B[39m\u001B[38;5;124;03m\"\"\"Context propagation decorator.\"\"\"\u001B[39;00m\n\u001B[1;32m     76\u001B[0m \u001B[38;5;28;01mif\u001B[39;00m \u001B[38;5;129;01mnot\u001B[39;00m OTEL_ENABLED \u001B[38;5;129;01mor\u001B[39;00m \u001B[38;5;129;01mnot\u001B[39;00m cnx\u001B[38;5;241m.\u001B[39motel_context_propagation:\n\u001B[0;32m---> 77\u001B[0m     \u001B[38;5;28;01mreturn\u001B[39;00m \u001B[43mmethod\u001B[49m\u001B[43m(\u001B[49m\u001B[43mcnx\u001B[49m\u001B[43m,\u001B[49m\u001B[43m \u001B[49m\u001B[38;5;241;43m*\u001B[39;49m\u001B[43margs\u001B[49m\u001B[43m,\u001B[49m\u001B[43m \u001B[49m\u001B[38;5;241;43m*\u001B[39;49m\u001B[38;5;241;43m*\u001B[39;49m\u001B[43mkwargs\u001B[49m\u001B[43m)\u001B[49m\n\u001B[1;32m     79\u001B[0m current_span \u001B[38;5;241m=\u001B[39m trace\u001B[38;5;241m.\u001B[39mget_current_span()\n\u001B[1;32m     80\u001B[0m tp_header \u001B[38;5;241m=\u001B[39m \u001B[38;5;28;01mNone\u001B[39;00m\n",
      "File \u001B[0;32m~/anaconda3/envs/SpaceX/lib/python3.10/site-packages/mysql/connector/connection_cext.py:647\u001B[0m, in \u001B[0;36mCMySQLConnection.cmd_query\u001B[0;34m(self, query, raw, buffered, raw_as_string)\u001B[0m\n\u001B[1;32m    639\u001B[0m     \u001B[38;5;28mself\u001B[39m\u001B[38;5;241m.\u001B[39m_cmysql\u001B[38;5;241m.\u001B[39mquery(\n\u001B[1;32m    640\u001B[0m         query,\n\u001B[1;32m    641\u001B[0m         raw\u001B[38;5;241m=\u001B[39mraw,\n\u001B[0;32m   (...)\u001B[0m\n\u001B[1;32m    644\u001B[0m         query_attrs\u001B[38;5;241m=\u001B[39m\u001B[38;5;28mself\u001B[39m\u001B[38;5;241m.\u001B[39mquery_attrs,\n\u001B[1;32m    645\u001B[0m     )\n\u001B[1;32m    646\u001B[0m \u001B[38;5;28;01mexcept\u001B[39;00m MySQLInterfaceError \u001B[38;5;28;01mas\u001B[39;00m err:\n\u001B[0;32m--> 647\u001B[0m     \u001B[38;5;28;01mraise\u001B[39;00m get_mysql_exception(\n\u001B[1;32m    648\u001B[0m         err\u001B[38;5;241m.\u001B[39merrno, msg\u001B[38;5;241m=\u001B[39merr\u001B[38;5;241m.\u001B[39mmsg, sqlstate\u001B[38;5;241m=\u001B[39merr\u001B[38;5;241m.\u001B[39msqlstate\n\u001B[1;32m    649\u001B[0m     ) \u001B[38;5;28;01mfrom\u001B[39;00m \u001B[38;5;21;01merr\u001B[39;00m\n\u001B[1;32m    650\u001B[0m \u001B[38;5;28;01mexcept\u001B[39;00m \u001B[38;5;167;01mAttributeError\u001B[39;00m \u001B[38;5;28;01mas\u001B[39;00m err:\n\u001B[1;32m    651\u001B[0m     addr \u001B[38;5;241m=\u001B[39m (\n\u001B[1;32m    652\u001B[0m         \u001B[38;5;28mself\u001B[39m\u001B[38;5;241m.\u001B[39m_unix_socket \u001B[38;5;28;01mif\u001B[39;00m \u001B[38;5;28mself\u001B[39m\u001B[38;5;241m.\u001B[39m_unix_socket \u001B[38;5;28;01melse\u001B[39;00m \u001B[38;5;124mf\u001B[39m\u001B[38;5;124m\"\u001B[39m\u001B[38;5;132;01m{\u001B[39;00m\u001B[38;5;28mself\u001B[39m\u001B[38;5;241m.\u001B[39m_host\u001B[38;5;132;01m}\u001B[39;00m\u001B[38;5;124m:\u001B[39m\u001B[38;5;132;01m{\u001B[39;00m\u001B[38;5;28mself\u001B[39m\u001B[38;5;241m.\u001B[39m_port\u001B[38;5;132;01m}\u001B[39;00m\u001B[38;5;124m\"\u001B[39m\n\u001B[1;32m    653\u001B[0m     )\n",
      "\u001B[0;31mProgrammingError\u001B[0m: 1064 (42000): You have an error in your SQL syntax; check the manual that corresponds to your MySQL server version for the right syntax to use near '' at line 1"
     ]
    }
   ],
   "source": [
    "cursor.execute(\"select BoosterVersion from dataSet_part_1 where PayloadMass = (select max(PayloadMass) from dataSet_part_1\")\n",
    "launch_data = cursor.fetchall()\n",
    "df = pd.DataFrame(launch_data)\n",
    "print(df)"
   ],
   "metadata": {
    "collapsed": false,
    "ExecuteTime": {
     "end_time": "2023-11-02T15:04:45.564458Z",
     "start_time": "2023-11-02T15:04:45.072031Z"
    }
   },
   "id": "bf561693d7c7e39"
  },
  {
   "cell_type": "code",
   "execution_count": null,
   "outputs": [],
   "source": [
    "cursor.execute(\"select substring(Date,4,2) as month, Date, BoosterVersion, LaunchSite, Outcome from dataSet_part_1 where [Outcome] = 'Failure' and substring(Date, 7, 4) = '2015' \")\n",
    "launch_data = cursor.fetchall()\n",
    "df = pd.DataFrame(launch_data)\n",
    "print(df)"
   ],
   "metadata": {
    "collapsed": false,
    "ExecuteTime": {
     "end_time": "2023-11-02T15:04:45.565903Z",
     "start_time": "2023-11-02T15:04:45.565136Z"
    }
   },
   "id": "8336515146055082"
  },
  {
   "cell_type": "code",
   "execution_count": null,
   "outputs": [],
   "source": [
    "cursor.execute(\"select Outcome, count(*) as count_outcomes from dataSet_part_1 where Date between '04-06-2010' and '20-03-2017' group by Outcome\") \n",
    "launch_data = cursor.fetchall()\n",
    "df = pd.DataFrame(launch_data)\n",
    "print(df)"
   ],
   "metadata": {
    "collapsed": false,
    "ExecuteTime": {
     "end_time": "2023-11-02T15:04:45.567002Z",
     "start_time": "2023-11-02T15:04:45.566580Z"
    }
   },
   "id": "14fe9f597f1c6443"
  },
  {
   "cell_type": "code",
   "execution_count": null,
   "outputs": [],
   "source": [],
   "metadata": {
    "collapsed": false,
    "ExecuteTime": {
     "end_time": "2023-11-02T15:04:45.567995Z",
     "start_time": "2023-11-02T15:04:45.567884Z"
    }
   },
   "id": "2705835f49f3ebaa"
  }
 ],
 "metadata": {
  "kernelspec": {
   "display_name": "Python 3",
   "language": "python",
   "name": "python3"
  },
  "language_info": {
   "codemirror_mode": {
    "name": "ipython",
    "version": 2
   },
   "file_extension": ".py",
   "mimetype": "text/x-python",
   "name": "python",
   "nbconvert_exporter": "python",
   "pygments_lexer": "ipython2",
   "version": "2.7.6"
  }
 },
 "nbformat": 4,
 "nbformat_minor": 5
}
