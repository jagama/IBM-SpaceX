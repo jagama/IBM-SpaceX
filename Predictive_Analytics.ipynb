{
 "cells": [
  {
   "cell_type": "markdown",
   "source": [
    "# Predictive Analytics Data\n",
    "\n",
    "### Key Points: \n",
    "\n",
    "1. Standardize the data\n",
    "2. Split into training and test data\n",
    "3. Find hyper-param for SVM, classification-tree and linear-regression"
   ],
   "metadata": {
    "collapsed": false
   },
   "id": "cbac83265fa3deb4"
  },
  {
   "cell_type": "code",
   "execution_count": 43,
   "outputs": [],
   "source": [
    "# libraries \n",
    "\n",
    "import pandas as pd\n",
    "import numpy as np\n",
    "import matplotlib.pyplot as plt\n",
    "import seaborn as sns\n",
    "\n",
    "from sklearn import preprocessing\n",
    "from sklearn.model_selection import train_test_split\n",
    "from sklearn.model_selection import GridSearchCV\n",
    "from sklearn.linear_model import LogisticRegression\n",
    "from sklearn.svm import SVC\n",
    "from sklearn.tree import DecisionTreeClassifier\n",
    "from sklearn.neighbors import KNeighborsClassifier"
   ],
   "metadata": {
    "collapsed": false,
    "ExecuteTime": {
     "end_time": "2023-11-02T15:34:16.810628Z",
     "start_time": "2023-11-02T15:34:16.713681Z"
    }
   },
   "id": "e8604e5b4ee1fb1"
  },
  {
   "cell_type": "code",
   "execution_count": 44,
   "outputs": [],
   "source": [
    "# confusion matrix\n",
    "\n",
    "def confusion_matrix(y,y_predict):\n",
    "    from sklearn.metrics import confusion_matrix\n",
    "\n",
    "    cm = confusion_matrix(y, y_predict)\n",
    "    ax= plt.subplot()\n",
    "    sns.heatmap(cm, annot=True, ax = ax)\n",
    "    ax.set_xlabel('Predicted labels')\n",
    "    ax.set_ylabel('True labels')\n",
    "    ax.set_title('Matrix')\n",
    "    ax.xaxis.set_ticklabels(['notLanded', 'Landed']); ax.yaxis.set_ticklabels(['notLanded', 'Landed'])\n",
    "    plt.show() "
   ],
   "metadata": {
    "collapsed": false,
    "ExecuteTime": {
     "end_time": "2023-11-02T15:34:16.830002Z",
     "start_time": "2023-11-02T15:34:16.721085Z"
    }
   },
   "id": "8d73e46799c416d5"
  },
  {
   "cell_type": "code",
   "execution_count": 45,
   "outputs": [
    {
     "data": {
      "text/plain": "   FlightNumber        Date BoosterVersion  PayloadMass Orbit    LaunchSite  \\\n0             1  2010-06-04       Falcon 9  6104.959412   LEO  CCAFS SLC 40   \n1             2  2012-05-22       Falcon 9   525.000000   LEO  CCAFS SLC 40   \n2             3  2013-03-01       Falcon 9   677.000000   ISS  CCAFS SLC 40   \n3             4  2013-09-29       Falcon 9   500.000000    PO   VAFB SLC 4E   \n4             5  2013-12-03       Falcon 9  3170.000000   GTO  CCAFS SLC 40   \n\n       Outcome  Flights  GridFins  Reused   Legs LandingPad  Block  \\\n0    None None        1     False   False  False        NaN    1.0   \n1    None None        1     False   False  False        NaN    1.0   \n2    None None        1     False   False  False        NaN    1.0   \n3  False Ocean        1     False   False  False        NaN    1.0   \n4    None None        1     False   False  False        NaN    1.0   \n\n   ReusedCount Serial   Longitude   Latitude  Class  \n0            0  B0003  -80.577366  28.561857      0  \n1            0  B0005  -80.577366  28.561857      0  \n2            0  B0007  -80.577366  28.561857      0  \n3            0  B1003 -120.610829  34.632093      0  \n4            0  B1004  -80.577366  28.561857      0  ",
      "text/html": "<div>\n<style scoped>\n    .dataframe tbody tr th:only-of-type {\n        vertical-align: middle;\n    }\n\n    .dataframe tbody tr th {\n        vertical-align: top;\n    }\n\n    .dataframe thead th {\n        text-align: right;\n    }\n</style>\n<table border=\"1\" class=\"dataframe\">\n  <thead>\n    <tr style=\"text-align: right;\">\n      <th></th>\n      <th>FlightNumber</th>\n      <th>Date</th>\n      <th>BoosterVersion</th>\n      <th>PayloadMass</th>\n      <th>Orbit</th>\n      <th>LaunchSite</th>\n      <th>Outcome</th>\n      <th>Flights</th>\n      <th>GridFins</th>\n      <th>Reused</th>\n      <th>Legs</th>\n      <th>LandingPad</th>\n      <th>Block</th>\n      <th>ReusedCount</th>\n      <th>Serial</th>\n      <th>Longitude</th>\n      <th>Latitude</th>\n      <th>Class</th>\n    </tr>\n  </thead>\n  <tbody>\n    <tr>\n      <th>0</th>\n      <td>1</td>\n      <td>2010-06-04</td>\n      <td>Falcon 9</td>\n      <td>6104.959412</td>\n      <td>LEO</td>\n      <td>CCAFS SLC 40</td>\n      <td>None None</td>\n      <td>1</td>\n      <td>False</td>\n      <td>False</td>\n      <td>False</td>\n      <td>NaN</td>\n      <td>1.0</td>\n      <td>0</td>\n      <td>B0003</td>\n      <td>-80.577366</td>\n      <td>28.561857</td>\n      <td>0</td>\n    </tr>\n    <tr>\n      <th>1</th>\n      <td>2</td>\n      <td>2012-05-22</td>\n      <td>Falcon 9</td>\n      <td>525.000000</td>\n      <td>LEO</td>\n      <td>CCAFS SLC 40</td>\n      <td>None None</td>\n      <td>1</td>\n      <td>False</td>\n      <td>False</td>\n      <td>False</td>\n      <td>NaN</td>\n      <td>1.0</td>\n      <td>0</td>\n      <td>B0005</td>\n      <td>-80.577366</td>\n      <td>28.561857</td>\n      <td>0</td>\n    </tr>\n    <tr>\n      <th>2</th>\n      <td>3</td>\n      <td>2013-03-01</td>\n      <td>Falcon 9</td>\n      <td>677.000000</td>\n      <td>ISS</td>\n      <td>CCAFS SLC 40</td>\n      <td>None None</td>\n      <td>1</td>\n      <td>False</td>\n      <td>False</td>\n      <td>False</td>\n      <td>NaN</td>\n      <td>1.0</td>\n      <td>0</td>\n      <td>B0007</td>\n      <td>-80.577366</td>\n      <td>28.561857</td>\n      <td>0</td>\n    </tr>\n    <tr>\n      <th>3</th>\n      <td>4</td>\n      <td>2013-09-29</td>\n      <td>Falcon 9</td>\n      <td>500.000000</td>\n      <td>PO</td>\n      <td>VAFB SLC 4E</td>\n      <td>False Ocean</td>\n      <td>1</td>\n      <td>False</td>\n      <td>False</td>\n      <td>False</td>\n      <td>NaN</td>\n      <td>1.0</td>\n      <td>0</td>\n      <td>B1003</td>\n      <td>-120.610829</td>\n      <td>34.632093</td>\n      <td>0</td>\n    </tr>\n    <tr>\n      <th>4</th>\n      <td>5</td>\n      <td>2013-12-03</td>\n      <td>Falcon 9</td>\n      <td>3170.000000</td>\n      <td>GTO</td>\n      <td>CCAFS SLC 40</td>\n      <td>None None</td>\n      <td>1</td>\n      <td>False</td>\n      <td>False</td>\n      <td>False</td>\n      <td>NaN</td>\n      <td>1.0</td>\n      <td>0</td>\n      <td>B1004</td>\n      <td>-80.577366</td>\n      <td>28.561857</td>\n      <td>0</td>\n    </tr>\n  </tbody>\n</table>\n</div>"
     },
     "execution_count": 45,
     "metadata": {},
     "output_type": "execute_result"
    }
   ],
   "source": [
    "# resource\n",
    "\n",
    "data ='https://cf-courses-data.s3.us.cloud-object-storage.appdomain.cloud/IBM-DS0321EN-SkillsNetwork/datasets/dataset_part_2.csv'\n",
    "df=pd.read_csv(data)\n",
    "df.head()\n"
   ],
   "metadata": {
    "collapsed": false,
    "ExecuteTime": {
     "end_time": "2023-11-02T15:34:17.734819Z",
     "start_time": "2023-11-02T15:34:16.726653Z"
    }
   },
   "id": "157d7bbc18c415a6"
  },
  {
   "cell_type": "code",
   "execution_count": 46,
   "outputs": [
    {
     "data": {
      "text/plain": "   FlightNumber  PayloadMass  Flights  Block  ReusedCount  Orbit_ES-L1  \\\n0           1.0  6104.959412      1.0    1.0          0.0          0.0   \n1           2.0   525.000000      1.0    1.0          0.0          0.0   \n2           3.0   677.000000      1.0    1.0          0.0          0.0   \n3           4.0   500.000000      1.0    1.0          0.0          0.0   \n4           5.0  3170.000000      1.0    1.0          0.0          0.0   \n\n   Orbit_GEO  Orbit_GTO  Orbit_HEO  Orbit_ISS  ...  Serial_B1058  \\\n0        0.0        0.0        0.0        0.0  ...           0.0   \n1        0.0        0.0        0.0        0.0  ...           0.0   \n2        0.0        0.0        0.0        1.0  ...           0.0   \n3        0.0        0.0        0.0        0.0  ...           0.0   \n4        0.0        1.0        0.0        0.0  ...           0.0   \n\n   Serial_B1059  Serial_B1060  Serial_B1062  GridFins_False  GridFins_True  \\\n0           0.0           0.0           0.0             1.0            0.0   \n1           0.0           0.0           0.0             1.0            0.0   \n2           0.0           0.0           0.0             1.0            0.0   \n3           0.0           0.0           0.0             1.0            0.0   \n4           0.0           0.0           0.0             1.0            0.0   \n\n   Reused_False  Reused_True  Legs_False  Legs_True  \n0           1.0          0.0         1.0        0.0  \n1           1.0          0.0         1.0        0.0  \n2           1.0          0.0         1.0        0.0  \n3           1.0          0.0         1.0        0.0  \n4           1.0          0.0         1.0        0.0  \n\n[5 rows x 83 columns]",
      "text/html": "<div>\n<style scoped>\n    .dataframe tbody tr th:only-of-type {\n        vertical-align: middle;\n    }\n\n    .dataframe tbody tr th {\n        vertical-align: top;\n    }\n\n    .dataframe thead th {\n        text-align: right;\n    }\n</style>\n<table border=\"1\" class=\"dataframe\">\n  <thead>\n    <tr style=\"text-align: right;\">\n      <th></th>\n      <th>FlightNumber</th>\n      <th>PayloadMass</th>\n      <th>Flights</th>\n      <th>Block</th>\n      <th>ReusedCount</th>\n      <th>Orbit_ES-L1</th>\n      <th>Orbit_GEO</th>\n      <th>Orbit_GTO</th>\n      <th>Orbit_HEO</th>\n      <th>Orbit_ISS</th>\n      <th>...</th>\n      <th>Serial_B1058</th>\n      <th>Serial_B1059</th>\n      <th>Serial_B1060</th>\n      <th>Serial_B1062</th>\n      <th>GridFins_False</th>\n      <th>GridFins_True</th>\n      <th>Reused_False</th>\n      <th>Reused_True</th>\n      <th>Legs_False</th>\n      <th>Legs_True</th>\n    </tr>\n  </thead>\n  <tbody>\n    <tr>\n      <th>0</th>\n      <td>1.0</td>\n      <td>6104.959412</td>\n      <td>1.0</td>\n      <td>1.0</td>\n      <td>0.0</td>\n      <td>0.0</td>\n      <td>0.0</td>\n      <td>0.0</td>\n      <td>0.0</td>\n      <td>0.0</td>\n      <td>...</td>\n      <td>0.0</td>\n      <td>0.0</td>\n      <td>0.0</td>\n      <td>0.0</td>\n      <td>1.0</td>\n      <td>0.0</td>\n      <td>1.0</td>\n      <td>0.0</td>\n      <td>1.0</td>\n      <td>0.0</td>\n    </tr>\n    <tr>\n      <th>1</th>\n      <td>2.0</td>\n      <td>525.000000</td>\n      <td>1.0</td>\n      <td>1.0</td>\n      <td>0.0</td>\n      <td>0.0</td>\n      <td>0.0</td>\n      <td>0.0</td>\n      <td>0.0</td>\n      <td>0.0</td>\n      <td>...</td>\n      <td>0.0</td>\n      <td>0.0</td>\n      <td>0.0</td>\n      <td>0.0</td>\n      <td>1.0</td>\n      <td>0.0</td>\n      <td>1.0</td>\n      <td>0.0</td>\n      <td>1.0</td>\n      <td>0.0</td>\n    </tr>\n    <tr>\n      <th>2</th>\n      <td>3.0</td>\n      <td>677.000000</td>\n      <td>1.0</td>\n      <td>1.0</td>\n      <td>0.0</td>\n      <td>0.0</td>\n      <td>0.0</td>\n      <td>0.0</td>\n      <td>0.0</td>\n      <td>1.0</td>\n      <td>...</td>\n      <td>0.0</td>\n      <td>0.0</td>\n      <td>0.0</td>\n      <td>0.0</td>\n      <td>1.0</td>\n      <td>0.0</td>\n      <td>1.0</td>\n      <td>0.0</td>\n      <td>1.0</td>\n      <td>0.0</td>\n    </tr>\n    <tr>\n      <th>3</th>\n      <td>4.0</td>\n      <td>500.000000</td>\n      <td>1.0</td>\n      <td>1.0</td>\n      <td>0.0</td>\n      <td>0.0</td>\n      <td>0.0</td>\n      <td>0.0</td>\n      <td>0.0</td>\n      <td>0.0</td>\n      <td>...</td>\n      <td>0.0</td>\n      <td>0.0</td>\n      <td>0.0</td>\n      <td>0.0</td>\n      <td>1.0</td>\n      <td>0.0</td>\n      <td>1.0</td>\n      <td>0.0</td>\n      <td>1.0</td>\n      <td>0.0</td>\n    </tr>\n    <tr>\n      <th>4</th>\n      <td>5.0</td>\n      <td>3170.000000</td>\n      <td>1.0</td>\n      <td>1.0</td>\n      <td>0.0</td>\n      <td>0.0</td>\n      <td>0.0</td>\n      <td>1.0</td>\n      <td>0.0</td>\n      <td>0.0</td>\n      <td>...</td>\n      <td>0.0</td>\n      <td>0.0</td>\n      <td>0.0</td>\n      <td>0.0</td>\n      <td>1.0</td>\n      <td>0.0</td>\n      <td>1.0</td>\n      <td>0.0</td>\n      <td>1.0</td>\n      <td>0.0</td>\n    </tr>\n  </tbody>\n</table>\n<p>5 rows × 83 columns</p>\n</div>"
     },
     "execution_count": 46,
     "metadata": {},
     "output_type": "execute_result"
    }
   ],
   "source": [
    "# resource2 \n",
    "\n",
    "data ='https://cf-courses-data.s3.us.cloud-object-storage.appdomain.cloud/IBM-DS0321EN-SkillsNetwork/datasets/dataset_part_3.csv'\n",
    "df=pd.read_csv(data)\n",
    "df.head()"
   ],
   "metadata": {
    "collapsed": false,
    "ExecuteTime": {
     "end_time": "2023-11-02T15:34:18.390056Z",
     "start_time": "2023-11-02T15:34:17.735093Z"
    }
   },
   "id": "54a6392edfd21e32"
  },
  {
   "cell_type": "code",
   "execution_count": 47,
   "outputs": [
    {
     "data": {
      "text/plain": "    CCAFS SLC 40  KSC LC 39A  VAFB SLC 4E  5e9e3032383ecb267a34e7c7  \\\n0              1           0            0                         0   \n1              1           0            0                         0   \n2              1           0            0                         0   \n3              0           0            1                         0   \n4              1           0            0                         0   \n..           ...         ...          ...                       ...   \n85             0           1            0                         0   \n86             0           1            0                         0   \n87             0           1            0                         0   \n88             1           0            0                         0   \n89             1           0            0                         0   \n\n    5e9e3032383ecb554034e7c9  5e9e3032383ecb6bb234e7ca  \\\n0                          0                         0   \n1                          0                         0   \n2                          0                         0   \n3                          0                         0   \n4                          0                         0   \n..                       ...                       ...   \n85                         0                         1   \n86                         0                         1   \n87                         0                         1   \n88                         0                         0   \n89                         0                         1   \n\n    5e9e3032383ecb761634e7cb  5e9e3033383ecbb9e534e7cc  B0003  B0005  ...  \\\n0                          0                         0      1      0  ...   \n1                          0                         0      0      1  ...   \n2                          0                         0      0      0  ...   \n3                          0                         0      0      0  ...   \n4                          0                         0      0      0  ...   \n..                       ...                       ...    ...    ...  ...   \n85                         0                         0      0      0  ...   \n86                         0                         0      0      0  ...   \n87                         0                         0      0      0  ...   \n88                         0                         1      0      0  ...   \n89                         0                         0      0      0  ...   \n\n    GEO  GTO  HEO  ISS  LEO  MEO  PO  SO  SSO  VLEO  \n0     0    0    0    0    1    0   0   0    0     0  \n1     0    0    0    0    1    0   0   0    0     0  \n2     0    0    0    1    0    0   0   0    0     0  \n3     0    0    0    0    0    0   1   0    0     0  \n4     0    1    0    0    0    0   0   0    0     0  \n..  ...  ...  ...  ...  ...  ...  ..  ..  ...   ...  \n85    0    0    0    0    0    0   0   0    0     1  \n86    0    0    0    0    0    0   0   0    0     1  \n87    0    0    0    0    0    0   0   0    0     1  \n88    0    0    0    0    0    0   0   0    0     1  \n89    0    0    0    0    0    1   0   0    0     0  \n\n[90 rows x 72 columns]",
      "text/html": "<div>\n<style scoped>\n    .dataframe tbody tr th:only-of-type {\n        vertical-align: middle;\n    }\n\n    .dataframe tbody tr th {\n        vertical-align: top;\n    }\n\n    .dataframe thead th {\n        text-align: right;\n    }\n</style>\n<table border=\"1\" class=\"dataframe\">\n  <thead>\n    <tr style=\"text-align: right;\">\n      <th></th>\n      <th>CCAFS SLC 40</th>\n      <th>KSC LC 39A</th>\n      <th>VAFB SLC 4E</th>\n      <th>5e9e3032383ecb267a34e7c7</th>\n      <th>5e9e3032383ecb554034e7c9</th>\n      <th>5e9e3032383ecb6bb234e7ca</th>\n      <th>5e9e3032383ecb761634e7cb</th>\n      <th>5e9e3033383ecbb9e534e7cc</th>\n      <th>B0003</th>\n      <th>B0005</th>\n      <th>...</th>\n      <th>GEO</th>\n      <th>GTO</th>\n      <th>HEO</th>\n      <th>ISS</th>\n      <th>LEO</th>\n      <th>MEO</th>\n      <th>PO</th>\n      <th>SO</th>\n      <th>SSO</th>\n      <th>VLEO</th>\n    </tr>\n  </thead>\n  <tbody>\n    <tr>\n      <th>0</th>\n      <td>1</td>\n      <td>0</td>\n      <td>0</td>\n      <td>0</td>\n      <td>0</td>\n      <td>0</td>\n      <td>0</td>\n      <td>0</td>\n      <td>1</td>\n      <td>0</td>\n      <td>...</td>\n      <td>0</td>\n      <td>0</td>\n      <td>0</td>\n      <td>0</td>\n      <td>1</td>\n      <td>0</td>\n      <td>0</td>\n      <td>0</td>\n      <td>0</td>\n      <td>0</td>\n    </tr>\n    <tr>\n      <th>1</th>\n      <td>1</td>\n      <td>0</td>\n      <td>0</td>\n      <td>0</td>\n      <td>0</td>\n      <td>0</td>\n      <td>0</td>\n      <td>0</td>\n      <td>0</td>\n      <td>1</td>\n      <td>...</td>\n      <td>0</td>\n      <td>0</td>\n      <td>0</td>\n      <td>0</td>\n      <td>1</td>\n      <td>0</td>\n      <td>0</td>\n      <td>0</td>\n      <td>0</td>\n      <td>0</td>\n    </tr>\n    <tr>\n      <th>2</th>\n      <td>1</td>\n      <td>0</td>\n      <td>0</td>\n      <td>0</td>\n      <td>0</td>\n      <td>0</td>\n      <td>0</td>\n      <td>0</td>\n      <td>0</td>\n      <td>0</td>\n      <td>...</td>\n      <td>0</td>\n      <td>0</td>\n      <td>0</td>\n      <td>1</td>\n      <td>0</td>\n      <td>0</td>\n      <td>0</td>\n      <td>0</td>\n      <td>0</td>\n      <td>0</td>\n    </tr>\n    <tr>\n      <th>3</th>\n      <td>0</td>\n      <td>0</td>\n      <td>1</td>\n      <td>0</td>\n      <td>0</td>\n      <td>0</td>\n      <td>0</td>\n      <td>0</td>\n      <td>0</td>\n      <td>0</td>\n      <td>...</td>\n      <td>0</td>\n      <td>0</td>\n      <td>0</td>\n      <td>0</td>\n      <td>0</td>\n      <td>0</td>\n      <td>1</td>\n      <td>0</td>\n      <td>0</td>\n      <td>0</td>\n    </tr>\n    <tr>\n      <th>4</th>\n      <td>1</td>\n      <td>0</td>\n      <td>0</td>\n      <td>0</td>\n      <td>0</td>\n      <td>0</td>\n      <td>0</td>\n      <td>0</td>\n      <td>0</td>\n      <td>0</td>\n      <td>...</td>\n      <td>0</td>\n      <td>1</td>\n      <td>0</td>\n      <td>0</td>\n      <td>0</td>\n      <td>0</td>\n      <td>0</td>\n      <td>0</td>\n      <td>0</td>\n      <td>0</td>\n    </tr>\n    <tr>\n      <th>...</th>\n      <td>...</td>\n      <td>...</td>\n      <td>...</td>\n      <td>...</td>\n      <td>...</td>\n      <td>...</td>\n      <td>...</td>\n      <td>...</td>\n      <td>...</td>\n      <td>...</td>\n      <td>...</td>\n      <td>...</td>\n      <td>...</td>\n      <td>...</td>\n      <td>...</td>\n      <td>...</td>\n      <td>...</td>\n      <td>...</td>\n      <td>...</td>\n      <td>...</td>\n      <td>...</td>\n    </tr>\n    <tr>\n      <th>85</th>\n      <td>0</td>\n      <td>1</td>\n      <td>0</td>\n      <td>0</td>\n      <td>0</td>\n      <td>1</td>\n      <td>0</td>\n      <td>0</td>\n      <td>0</td>\n      <td>0</td>\n      <td>...</td>\n      <td>0</td>\n      <td>0</td>\n      <td>0</td>\n      <td>0</td>\n      <td>0</td>\n      <td>0</td>\n      <td>0</td>\n      <td>0</td>\n      <td>0</td>\n      <td>1</td>\n    </tr>\n    <tr>\n      <th>86</th>\n      <td>0</td>\n      <td>1</td>\n      <td>0</td>\n      <td>0</td>\n      <td>0</td>\n      <td>1</td>\n      <td>0</td>\n      <td>0</td>\n      <td>0</td>\n      <td>0</td>\n      <td>...</td>\n      <td>0</td>\n      <td>0</td>\n      <td>0</td>\n      <td>0</td>\n      <td>0</td>\n      <td>0</td>\n      <td>0</td>\n      <td>0</td>\n      <td>0</td>\n      <td>1</td>\n    </tr>\n    <tr>\n      <th>87</th>\n      <td>0</td>\n      <td>1</td>\n      <td>0</td>\n      <td>0</td>\n      <td>0</td>\n      <td>1</td>\n      <td>0</td>\n      <td>0</td>\n      <td>0</td>\n      <td>0</td>\n      <td>...</td>\n      <td>0</td>\n      <td>0</td>\n      <td>0</td>\n      <td>0</td>\n      <td>0</td>\n      <td>0</td>\n      <td>0</td>\n      <td>0</td>\n      <td>0</td>\n      <td>1</td>\n    </tr>\n    <tr>\n      <th>88</th>\n      <td>1</td>\n      <td>0</td>\n      <td>0</td>\n      <td>0</td>\n      <td>0</td>\n      <td>0</td>\n      <td>0</td>\n      <td>1</td>\n      <td>0</td>\n      <td>0</td>\n      <td>...</td>\n      <td>0</td>\n      <td>0</td>\n      <td>0</td>\n      <td>0</td>\n      <td>0</td>\n      <td>0</td>\n      <td>0</td>\n      <td>0</td>\n      <td>0</td>\n      <td>1</td>\n    </tr>\n    <tr>\n      <th>89</th>\n      <td>1</td>\n      <td>0</td>\n      <td>0</td>\n      <td>0</td>\n      <td>0</td>\n      <td>1</td>\n      <td>0</td>\n      <td>0</td>\n      <td>0</td>\n      <td>0</td>\n      <td>...</td>\n      <td>0</td>\n      <td>0</td>\n      <td>0</td>\n      <td>0</td>\n      <td>0</td>\n      <td>1</td>\n      <td>0</td>\n      <td>0</td>\n      <td>0</td>\n      <td>0</td>\n    </tr>\n  </tbody>\n</table>\n<p>90 rows × 72 columns</p>\n</div>"
     },
     "execution_count": 47,
     "metadata": {},
     "output_type": "execute_result"
    }
   ],
   "source": [
    "# data digest: \n",
    "# creation a numPy array from Column Class in data = Y to standardize output for Pandas lib\n",
    "X = pd.read_csv(\"dataset_part_3.csv\")\n",
    "X.head(100)"
   ],
   "metadata": {
    "collapsed": false,
    "ExecuteTime": {
     "end_time": "2023-11-02T15:34:18.397699Z",
     "start_time": "2023-11-02T15:34:18.388334Z"
    }
   },
   "id": "2f6dc9de03cfa853"
  },
  {
   "cell_type": "code",
   "execution_count": 48,
   "outputs": [
    {
     "data": {
      "text/plain": "array([0, 0, 0, 0, 0, 0, 1, 1, 0, 0, 0, 0, 1, 0, 0, 0, 1, 0, 0, 1, 1, 1,\n       1, 1, 0, 1, 1, 0, 1, 1, 0, 1, 1, 1, 0, 1, 1, 1, 1, 1, 1, 1, 1, 1,\n       1, 0, 0, 0, 1, 1, 0, 0, 1, 1, 1, 1, 1, 1, 1, 0, 0, 1, 1, 1, 1, 1,\n       1, 0, 1, 1, 1, 1, 0, 1, 0, 1, 0, 1, 1, 1, 1, 1, 1, 1, 1, 1, 1, 1,\n       1, 1])"
     },
     "execution_count": 48,
     "metadata": {},
     "output_type": "execute_result"
    }
   ],
   "source": [
    "data = pd.read_csv('dataset_part_2.csv')\n",
    "\n",
    "Y = data['Class'].to_numpy()\n",
    "Y"
   ],
   "metadata": {
    "collapsed": false,
    "ExecuteTime": {
     "end_time": "2023-11-02T15:34:18.404949Z",
     "start_time": "2023-11-02T15:34:18.397636Z"
    }
   },
   "id": "d32c3b301ec6c33d"
  },
  {
   "cell_type": "code",
   "execution_count": 49,
   "outputs": [],
   "source": [
    "# data digest: \n",
    "# standardize X then assign variable X as:\n",
    "\n",
    "transform = preprocessing.StandardScaler()\n",
    "X = transform.fit_transform(X)"
   ],
   "metadata": {
    "collapsed": false,
    "ExecuteTime": {
     "end_time": "2023-11-02T15:34:18.437470Z",
     "start_time": "2023-11-02T15:34:18.405501Z"
    }
   },
   "id": "b3cd9c1a71592bb9"
  },
  {
   "cell_type": "code",
   "execution_count": 50,
   "outputs": [
    {
     "data": {
      "text/plain": "(18,)"
     },
     "execution_count": 50,
     "metadata": {},
     "output_type": "execute_result"
    }
   ],
   "source": [
    "# split data to training \n",
    "\n",
    "X_train, X_test, Y_train, Y_test = train_test_split(X, Y, test_size=0.2, random_state=2)\n",
    "Y_test.shape"
   ],
   "metadata": {
    "collapsed": false,
    "ExecuteTime": {
     "end_time": "2023-11-02T15:34:18.441839Z",
     "start_time": "2023-11-02T15:34:18.412202Z"
    }
   },
   "id": "e0bf586c792c84e9"
  },
  {
   "cell_type": "code",
   "execution_count": 51,
   "outputs": [],
   "source": [
    "parameters ={\"C\":[0.01,0.1,1],'penalty':['l2'], 'solver':['lbfgs']}# l1 lasso l2 ridge\n",
    "\n",
    "# define the model\n",
    "lr = LogisticRegression(random_state = 12345)\n",
    "\n",
    "# define the grid search object\n",
    "grid_search_lr = GridSearchCV(\n",
    "    estimator = lr,\n",
    "    param_grid = parameters,\n",
    "    scoring = 'accuracy',\n",
    "    cv = 10\n",
    ")\n",
    "# execute search\n",
    "logreg_cv = grid_search_lr.fit(X_train,Y_train)"
   ],
   "metadata": {
    "collapsed": false,
    "ExecuteTime": {
     "end_time": "2023-11-02T15:34:18.503399Z",
     "start_time": "2023-11-02T15:34:18.418328Z"
    }
   },
   "id": "339172665aa3064b"
  },
  {
   "cell_type": "code",
   "execution_count": 52,
   "outputs": [
    {
     "name": "stdout",
     "output_type": "stream",
     "text": [
      "tuned hpyerparam :(best params)  {'C': 1, 'penalty': 'l2', 'solver': 'lbfgs'}\n",
      "Acc : 0.6964285714285714\n"
     ]
    }
   ],
   "source": [
    "print(\"tuned hpyerparam :(best params) \",logreg_cv.best_params_)\n",
    "print(\"Acc :\",logreg_cv.best_score_)"
   ],
   "metadata": {
    "collapsed": false,
    "ExecuteTime": {
     "end_time": "2023-11-02T15:34:18.503669Z",
     "start_time": "2023-11-02T15:34:18.473985Z"
    }
   },
   "id": "ae91c2f6f672778e"
  },
  {
   "cell_type": "code",
   "execution_count": 53,
   "outputs": [
    {
     "name": "stdout",
     "output_type": "stream",
     "text": [
      "Accuracy on test is: 0.778\n"
     ]
    }
   ],
   "source": [
    "# calc confidence on testing\n",
    "\n",
    "print('Accuracy on test is: {:.3f}'.format(logreg_cv.score(X_test, Y_test)))"
   ],
   "metadata": {
    "collapsed": false,
    "ExecuteTime": {
     "end_time": "2023-11-02T15:34:18.503755Z",
     "start_time": "2023-11-02T15:34:18.478902Z"
    }
   },
   "id": "501d333e2d2096c7"
  },
  {
   "cell_type": "code",
   "execution_count": 54,
   "outputs": [
    {
     "data": {
      "text/plain": "<Figure size 640x480 with 2 Axes>",
      "image/png": "[encoded data removed]"
     },
     "metadata": {},
     "output_type": "display_data"
    }
   ],
   "source": [
    "# matrix\n",
    "\n",
    "yhat_lr = logreg_cv.predict(X_test)\n",
    "confusion_matrix(Y_test, yhat_lr)"
   ],
   "metadata": {
    "collapsed": false,
    "ExecuteTime": {
     "end_time": "2023-11-02T15:34:18.656610Z",
     "start_time": "2023-11-02T15:34:18.481484Z"
    }
   },
   "id": "7e6550d5012aa3f7"
  },
  {
   "cell_type": "code",
   "execution_count": 55,
   "outputs": [],
   "source": [
    "# SVM \n",
    "\n",
    "params = {'kernel':('linear', 'rbf','poly','rbf', 'sigmoid'),\n",
    "              'C': np.logspace(-3, 3, 5),\n",
    "              'gamma':np.logspace(-3, 3, 5)}\n",
    "svm = SVC()\n",
    "svm_cv = GridSearchCV(estimator=svm, cv=10, param_grid=params).fit(X_train, Y_train)"
   ],
   "metadata": {
    "collapsed": false,
    "ExecuteTime": {
     "end_time": "2023-11-02T15:34:19.498909Z",
     "start_time": "2023-11-02T15:34:18.617389Z"
    }
   },
   "id": "76d4b733db8db41b"
  },
  {
   "cell_type": "code",
   "execution_count": 56,
   "outputs": [
    {
     "name": "stdout",
     "output_type": "stream",
     "text": [
      "tuned hpyerparams :(best params)  {'C': 31.622776601683793, 'gamma': 0.03162277660168379, 'kernel': 'sigmoid'}\n",
      "Acc: 0.7964285714285715\n"
     ]
    }
   ],
   "source": [
    "print(\"tuned hpyerparams :(best params) \",svm_cv.best_params_)\n",
    "print(\"Acc:\",svm_cv.best_score_)"
   ],
   "metadata": {
    "collapsed": false,
    "ExecuteTime": {
     "end_time": "2023-11-02T15:34:19.505686Z",
     "start_time": "2023-11-02T15:34:19.501064Z"
    }
   },
   "id": "943b2f91c9e04a47"
  },
  {
   "cell_type": "code",
   "execution_count": 57,
   "outputs": [
    {
     "name": "stdout",
     "output_type": "stream",
     "text": [
      "tuned hpyerparams :(best params)  {'C': 31.622776601683793, 'gamma': 0.03162277660168379, 'kernel': 'sigmoid'}\n",
      "Acc : 0.7964285714285715\n"
     ]
    }
   ],
   "source": [
    "print(\"tuned hpyerparams :(best params) \",svm_cv.best_params_)\n",
    "print(\"Acc :\",svm_cv.best_score_)"
   ],
   "metadata": {
    "collapsed": false,
    "ExecuteTime": {
     "end_time": "2023-11-02T15:34:19.514027Z",
     "start_time": "2023-11-02T15:34:19.505475Z"
    }
   },
   "id": "26c40f5896bdadf6"
  },
  {
   "cell_type": "code",
   "execution_count": 58,
   "outputs": [
    {
     "name": "stdout",
     "output_type": "stream",
     "text": [
      "Accuracy on test is: 0.944\n"
     ]
    }
   ],
   "source": [
    "# accuracy on test\n",
    "\n",
    "print('Accuracy on test is: {:.3f}'.format(svm_cv.score(X_test, Y_test)))"
   ],
   "metadata": {
    "collapsed": false,
    "ExecuteTime": {
     "end_time": "2023-11-02T15:34:19.516316Z",
     "start_time": "2023-11-02T15:34:19.510188Z"
    }
   },
   "id": "5878a02d3d7337b5"
  },
  {
   "cell_type": "code",
   "execution_count": 59,
   "outputs": [
    {
     "data": {
      "text/plain": "<Figure size 640x480 with 2 Axes>",
      "image/png": "[encoded data removed]"
     },
     "metadata": {},
     "output_type": "display_data"
    }
   ],
   "source": [
    "# matrix\n",
    "\n",
    "svm_yhat=svm_cv.predict(X_test)\n",
    "confusion_matrix(Y_test,svm_yhat)"
   ],
   "metadata": {
    "collapsed": false,
    "ExecuteTime": {
     "end_time": "2023-11-02T15:34:19.593029Z",
     "start_time": "2023-11-02T15:34:19.522357Z"
    }
   },
   "id": "325a4205ff311772"
  },
  {
   "cell_type": "code",
   "execution_count": 60,
   "outputs": [
    {
     "name": "stderr",
     "output_type": "stream",
     "text": [
      "/Users/js/.local/lib/python3.10/site-packages/sklearn/model_selection/_validation.py:425: FitFailedWarning: \n",
      "3240 fits failed out of a total of 6480.\n",
      "The score on these train-test partitions for these parameters will be set to nan.\n",
      "If these failures are not expected, you can try to debug them by setting error_score='raise'.\n",
      "\n",
      "Below are more details about the failures:\n",
      "--------------------------------------------------------------------------------\n",
      "3240 fits failed with the following error:\n",
      "Traceback (most recent call last):\n",
      "  File \"/Users/js/.local/lib/python3.10/site-packages/sklearn/model_selection/_validation.py\", line 732, in _fit_and_score\n",
      "    estimator.fit(X_train, y_train, **fit_params)\n",
      "  File \"/Users/js/.local/lib/python3.10/site-packages/sklearn/base.py\", line 1144, in wrapper\n",
      "    estimator._validate_params()\n",
      "  File \"/Users/js/.local/lib/python3.10/site-packages/sklearn/base.py\", line 637, in _validate_params\n",
      "    validate_parameter_constraints(\n",
      "  File \"/Users/js/.local/lib/python3.10/site-packages/sklearn/utils/_param_validation.py\", line 95, in validate_parameter_constraints\n",
      "    raise InvalidParameterError(\n",
      "sklearn.utils._param_validation.InvalidParameterError: The 'max_features' parameter of DecisionTreeClassifier must be an int in the range [1, inf), a float in the range (0.0, 1.0], a str among {'log2', 'sqrt'} or None. Got 'auto' instead.\n",
      "\n",
      "  warnings.warn(some_fits_failed_message, FitFailedWarning)\n",
      "/Users/js/.local/lib/python3.10/site-packages/sklearn/model_selection/_search.py:976: UserWarning: One or more of the test scores are non-finite: [       nan        nan        nan        nan        nan        nan\n",
      "        nan        nan        nan        nan        nan        nan\n",
      "        nan        nan        nan        nan        nan        nan\n",
      " 0.66785714 0.66785714 0.66785714 0.66785714 0.66785714 0.66785714\n",
      " 0.66785714 0.66785714 0.66785714 0.66785714 0.66785714 0.66785714\n",
      " 0.66785714 0.66785714 0.66785714 0.66785714 0.66785714 0.66785714\n",
      "        nan        nan        nan        nan        nan        nan\n",
      "        nan        nan        nan        nan        nan        nan\n",
      "        nan        nan        nan        nan        nan        nan\n",
      " 0.68392857 0.63928571 0.68392857 0.63928571 0.68392857 0.63928571\n",
      " 0.69285714 0.62857143 0.69285714 0.62857143 0.69285714 0.65357143\n",
      " 0.66785714 0.63928571 0.66785714 0.63928571 0.66785714 0.63928571\n",
      "        nan        nan        nan        nan        nan        nan\n",
      "        nan        nan        nan        nan        nan        nan\n",
      "        nan        nan        nan        nan        nan        nan\n",
      " 0.725      0.65357143 0.75357143 0.66785714 0.75357143 0.68214286\n",
      " 0.65178571 0.61428571 0.65178571 0.62857143 0.66428571 0.625\n",
      " 0.66785714 0.625      0.66785714 0.625      0.66785714 0.625\n",
      "        nan        nan        nan        nan        nan        nan\n",
      "        nan        nan        nan        nan        nan        nan\n",
      "        nan        nan        nan        nan        nan        nan\n",
      " 0.64464286 0.68214286 0.7        0.71071429 0.72857143 0.66785714\n",
      " 0.69464286 0.60178571 0.70892857 0.63035714 0.70892857 0.6125\n",
      " 0.66785714 0.625      0.66785714 0.625      0.66785714 0.625\n",
      "        nan        nan        nan        nan        nan        nan\n",
      "        nan        nan        nan        nan        nan        nan\n",
      "        nan        nan        nan        nan        nan        nan\n",
      " 0.74107143 0.68392857 0.75535714 0.65535714 0.75535714 0.65535714\n",
      " 0.66964286 0.60178571 0.69821429 0.63035714 0.71071429 0.6125\n",
      " 0.66785714 0.625      0.66785714 0.625      0.66785714 0.625\n",
      "        nan        nan        nan        nan        nan        nan\n",
      "        nan        nan        nan        nan        nan        nan\n",
      "        nan        nan        nan        nan        nan        nan\n",
      " 0.7125     0.69642857 0.71071429 0.69642857 0.74285714 0.66785714\n",
      " 0.68392857 0.60178571 0.7125     0.63035714 0.725      0.6125\n",
      " 0.66785714 0.625      0.66785714 0.625      0.66785714 0.625\n",
      "        nan        nan        nan        nan        nan        nan\n",
      "        nan        nan        nan        nan        nan        nan\n",
      "        nan        nan        nan        nan        nan        nan\n",
      " 0.67142857 0.65357143 0.72857143 0.62678571 0.74285714 0.66964286\n",
      " 0.68392857 0.60178571 0.7125     0.63035714 0.725      0.6125\n",
      " 0.66785714 0.625      0.66785714 0.625      0.66785714 0.625\n",
      "        nan        nan        nan        nan        nan        nan\n",
      "        nan        nan        nan        nan        nan        nan\n",
      "        nan        nan        nan        nan        nan        nan\n",
      " 0.61428571 0.65714286 0.73035714 0.66785714 0.74285714 0.64285714\n",
      " 0.68392857 0.60178571 0.7125     0.63035714 0.725      0.6125\n",
      " 0.66785714 0.625      0.66785714 0.625      0.66785714 0.625\n",
      "        nan        nan        nan        nan        nan        nan\n",
      "        nan        nan        nan        nan        nan        nan\n",
      "        nan        nan        nan        nan        nan        nan\n",
      " 0.63035714 0.66964286 0.74107143 0.65535714 0.75535714 0.65535714\n",
      " 0.68392857 0.60178571 0.7125     0.63035714 0.725      0.6125\n",
      " 0.66785714 0.625      0.66785714 0.625      0.66785714 0.625\n",
      "        nan        nan        nan        nan        nan        nan\n",
      "        nan        nan        nan        nan        nan        nan\n",
      "        nan        nan        nan        nan        nan        nan\n",
      " 0.66785714 0.66785714 0.66785714 0.66785714 0.66785714 0.66785714\n",
      " 0.66785714 0.66785714 0.66785714 0.66785714 0.66785714 0.66785714\n",
      " 0.66785714 0.66785714 0.66785714 0.66785714 0.66785714 0.66785714\n",
      "        nan        nan        nan        nan        nan        nan\n",
      "        nan        nan        nan        nan        nan        nan\n",
      "        nan        nan        nan        nan        nan        nan\n",
      " 0.66964286 0.66785714 0.66964286 0.66785714 0.66964286 0.66785714\n",
      " 0.69285714 0.65714286 0.69285714 0.65714286 0.69285714 0.68214286\n",
      " 0.66785714 0.63928571 0.66785714 0.63928571 0.66785714 0.63928571\n",
      "        nan        nan        nan        nan        nan        nan\n",
      "        nan        nan        nan        nan        nan        nan\n",
      "        nan        nan        nan        nan        nan        nan\n",
      " 0.73928571 0.65357143 0.76785714 0.66785714 0.76785714 0.68214286\n",
      " 0.59464286 0.61428571 0.59464286 0.61428571 0.60714286 0.625\n",
      " 0.66785714 0.625      0.66785714 0.625      0.66785714 0.625\n",
      "        nan        nan        nan        nan        nan        nan\n",
      "        nan        nan        nan        nan        nan        nan\n",
      "        nan        nan        nan        nan        nan        nan\n",
      " 0.6875     0.65357143 0.74285714 0.66785714 0.74285714 0.65357143\n",
      " 0.6375     0.5875     0.65178571 0.60178571 0.65178571 0.6125\n",
      " 0.66785714 0.625      0.66785714 0.625      0.66785714 0.625\n",
      "        nan        nan        nan        nan        nan        nan\n",
      "        nan        nan        nan        nan        nan        nan\n",
      "        nan        nan        nan        nan        nan        nan\n",
      " 0.75535714 0.68392857 0.76964286 0.65535714 0.76964286 0.66964286\n",
      " 0.59821429 0.5875     0.62678571 0.60178571 0.63928571 0.6125\n",
      " 0.66785714 0.625      0.66785714 0.625      0.66785714 0.625\n",
      "        nan        nan        nan        nan        nan        nan\n",
      "        nan        nan        nan        nan        nan        nan\n",
      "        nan        nan        nan        nan        nan        nan\n",
      " 0.67321429 0.70892857 0.74285714 0.72321429 0.75714286 0.69464286\n",
      " 0.59821429 0.5875     0.62678571 0.60178571 0.63928571 0.6125\n",
      " 0.66785714 0.625      0.66785714 0.625      0.66785714 0.625\n",
      "        nan        nan        nan        nan        nan        nan\n",
      "        nan        nan        nan        nan        nan        nan\n",
      "        nan        nan        nan        nan        nan        nan\n",
      " 0.725      0.70892857 0.75714286 0.68214286 0.75714286 0.69642857\n",
      " 0.59821429 0.5875     0.62678571 0.60178571 0.63928571 0.6125\n",
      " 0.66785714 0.625      0.66785714 0.625      0.66785714 0.625\n",
      "        nan        nan        nan        nan        nan        nan\n",
      "        nan        nan        nan        nan        nan        nan\n",
      "        nan        nan        nan        nan        nan        nan\n",
      " 0.61428571 0.69821429 0.78214286 0.70892857 0.75714286 0.66964286\n",
      " 0.59821429 0.5875     0.62678571 0.60178571 0.63928571 0.6125\n",
      " 0.66785714 0.625      0.66785714 0.625      0.66785714 0.625\n",
      "        nan        nan        nan        nan        nan        nan\n",
      "        nan        nan        nan        nan        nan        nan\n",
      "        nan        nan        nan        nan        nan        nan\n",
      " 0.61428571 0.725      0.78214286 0.68571429 0.75714286 0.66964286\n",
      " 0.59821429 0.5875     0.62678571 0.60178571 0.63928571 0.6125\n",
      " 0.66785714 0.625      0.66785714 0.625      0.66785714 0.625     ]\n",
      "  warnings.warn(\n"
     ]
    }
   ],
   "source": [
    "# decision tree\n",
    "\n",
    "parameters_tree = {'criterion': ['gini', 'entropy'],\n",
    "                   'splitter': ['best', 'random'],\n",
    "                   'max_depth': [2*n for n in range(1,10)],\n",
    "                   'max_features': ['auto', 'sqrt'],\n",
    "                   'min_samples_leaf': [1, 2, 4],\n",
    "                   'min_samples_split': [2, 5, 10]}\n",
    "\n",
    "tree = DecisionTreeClassifier(random_state = 12345)\n",
    "\n",
    "grid_search_tree = GridSearchCV(\n",
    "    estimator = tree,\n",
    "    param_grid = parameters_tree,\n",
    "    scoring = 'accuracy',\n",
    "    cv = 10\n",
    ")\n",
    "\n",
    "tree_cv = grid_search_tree.fit(X_train, Y_train)"
   ],
   "metadata": {
    "collapsed": false,
    "ExecuteTime": {
     "end_time": "2023-11-02T15:34:21.742273Z",
     "start_time": "2023-11-02T15:34:19.595287Z"
    }
   },
   "id": "eeaad39cdbe4419b"
  },
  {
   "cell_type": "code",
   "execution_count": 61,
   "outputs": [
    {
     "name": "stdout",
     "output_type": "stream",
     "text": [
      "tuned hyperparams :(best params)  {'criterion': 'entropy', 'max_depth': 16, 'max_features': 'sqrt', 'min_samples_leaf': 1, 'min_samples_split': 5, 'splitter': 'best'}\n",
      "Acc : 0.7821428571428571\n"
     ]
    }
   ],
   "source": [
    "print(\"tuned hyperparams :(best params) \",tree_cv.best_params_)\n",
    "print(\"Acc :\",tree_cv.best_score_)"
   ],
   "metadata": {
    "collapsed": false,
    "ExecuteTime": {
     "end_time": "2023-11-02T15:34:21.744836Z",
     "start_time": "2023-11-02T15:34:21.742219Z"
    }
   },
   "id": "56bcb70f31f551fa"
  },
  {
   "cell_type": "code",
   "execution_count": 62,
   "outputs": [
    {
     "name": "stdout",
     "output_type": "stream",
     "text": [
      "score : 0.9444444444444444\n"
     ]
    }
   ],
   "source": [
    "# tree_cv accuracy\n",
    "\n",
    "tree_cv_score = svm_cv.score(X_test, Y_test)\n",
    "print(\"score :\",tree_cv_score)"
   ],
   "metadata": {
    "collapsed": false,
    "ExecuteTime": {
     "end_time": "2023-11-02T15:34:21.747649Z",
     "start_time": "2023-11-02T15:34:21.745418Z"
    }
   },
   "id": "9d74637ca563971f"
  },
  {
   "cell_type": "code",
   "execution_count": 63,
   "outputs": [
    {
     "data": {
      "text/plain": "<Figure size 640x480 with 2 Axes>",
      "image/png": "[encoded data removed]"
     },
     "metadata": {},
     "output_type": "display_data"
    }
   ],
   "source": [
    "tree_yhat = svm_cv.predict(X_test)\n",
    "confusion_matrix(Y_test,tree_yhat)"
   ],
   "metadata": {
    "collapsed": false,
    "ExecuteTime": {
     "end_time": "2023-11-02T15:34:21.846519Z",
     "start_time": "2023-11-02T15:34:21.753550Z"
    }
   },
   "id": "38a161a4071d76bf"
  },
  {
   "cell_type": "code",
   "execution_count": 64,
   "outputs": [],
   "source": [
    "# k nearest neighbors\n",
    "\n",
    "# define hyperparameters to tune\n",
    "parameters = {'n_neighbors': [1, 2, 3, 4, 5, 6, 7, 8, 9, 10],\n",
    "              'algorithm': ['auto', 'ball_tree', 'kd_tree', 'brute'],\n",
    "              'p': [1,2]}\n",
    "\n",
    "# define the model\n",
    "knn = KNeighborsClassifier()"
   ],
   "metadata": {
    "collapsed": false,
    "ExecuteTime": {
     "end_time": "2023-11-02T15:34:21.846689Z",
     "start_time": "2023-11-02T15:34:21.821845Z"
    }
   },
   "id": "e43aeaf3a7498db5"
  },
  {
   "cell_type": "code",
   "execution_count": 65,
   "outputs": [],
   "source": [
    "# define the grid search object\n",
    "grid_search_knn = GridSearchCV(\n",
    "    estimator = knn,\n",
    "    param_grid = parameters,\n",
    "    scoring = 'accuracy',\n",
    "    cv = 10\n",
    ")\n",
    "# execute search\n",
    "knn_cv = grid_search_knn.fit(X_train, Y_train)"
   ],
   "metadata": {
    "collapsed": false,
    "ExecuteTime": {
     "end_time": "2023-11-02T15:34:22.715433Z",
     "start_time": "2023-11-02T15:34:21.836995Z"
    }
   },
   "id": "2087b2e671f89393"
  },
  {
   "cell_type": "code",
   "execution_count": 66,
   "outputs": [
    {
     "name": "stdout",
     "output_type": "stream",
     "text": [
      "tuned hpyerparams :(best params)  {'algorithm': 'auto', 'n_neighbors': 10, 'p': 1}\n",
      "Acc : 0.7392857142857142\n"
     ]
    }
   ],
   "source": [
    "print(\"tuned hpyerparams :(best params) \",knn_cv.best_params_)\n",
    "print(\"Acc :\",knn_cv.best_score_)"
   ],
   "metadata": {
    "collapsed": false,
    "ExecuteTime": {
     "end_time": "2023-11-02T15:34:22.721991Z",
     "start_time": "2023-11-02T15:34:22.716094Z"
    }
   },
   "id": "f36f326c4e65cec8"
  },
  {
   "cell_type": "code",
   "execution_count": 67,
   "outputs": [
    {
     "name": "stdout",
     "output_type": "stream",
     "text": [
      "Acc on test is: 0.722\n"
     ]
    }
   ],
   "source": [
    "# knn accuracy\n",
    "\n",
    "print('Acc on test is: {:.3f}'.format(knn_cv.score(X_test, Y_test)))"
   ],
   "metadata": {
    "collapsed": false,
    "ExecuteTime": {
     "end_time": "2023-11-02T15:34:22.728489Z",
     "start_time": "2023-11-02T15:34:22.721297Z"
    }
   },
   "id": "cdaa22a7ae0d6a64"
  },
  {
   "cell_type": "code",
   "execution_count": 68,
   "outputs": [
    {
     "data": {
      "text/plain": "<Figure size 640x480 with 2 Axes>",
      "image/png": "[encoded data removed]"
     },
     "metadata": {},
     "output_type": "display_data"
    }
   ],
   "source": [
    "# matrix \n",
    "\n",
    "yhat = knn_cv.predict(X_test)\n",
    "confusion_matrix(Y_test,yhat)"
   ],
   "metadata": {
    "collapsed": false,
    "ExecuteTime": {
     "end_time": "2023-11-02T15:34:22.806157Z",
     "start_time": "2023-11-02T15:34:22.727894Z"
    }
   },
   "id": "7bd506dc126950fc"
  },
  {
   "cell_type": "code",
   "execution_count": 69,
   "outputs": [
    {
     "name": "stdout",
     "output_type": "stream",
     "text": [
      "Best model :  SupportVector with score ->  0.7964285714285715\n",
      "Best params : {'C': 31.622776601683793, 'gamma': 0.03162277660168379, 'kernel': 'sigmoid'}\n"
     ]
    }
   ],
   "source": [
    "# what method perform best\n",
    "\n",
    "models = {'KNeighbors':knn_cv.best_score_,\n",
    "          'DecisionTree':tree_cv.best_score_,\n",
    "          'LogisticRegression':logreg_cv.best_score_,\n",
    "          'SupportVector': svm_cv.best_score_}\n",
    "\n",
    "bestAlgorithm = max(models, key=models.get)\n",
    "print('Best model : ', bestAlgorithm,'with score -> ', models[bestAlgorithm])\n",
    "if bestAlgorithm == 'DecisionTree':\n",
    "    print('Best params :', tree_cv.best_params_)\n",
    "if bestAlgorithm == 'KNeighbors':\n",
    "    print('Best params :', knn_cv.best_params_)\n",
    "if bestAlgorithm == 'LogisticRegression':\n",
    "    print('Best params :', logreg_cv.best_params_)\n",
    "if bestAlgorithm == 'SupportVector':\n",
    "    print('Best params :', svm_cv.best_params_)"
   ],
   "metadata": {
    "collapsed": false,
    "ExecuteTime": {
     "end_time": "2023-11-02T15:34:22.811610Z",
     "start_time": "2023-11-02T15:34:22.807185Z"
    }
   },
   "id": "22b7bd5d0498650b"
  }
 ],
 "metadata": {
  "kernelspec": {
   "display_name": "Python 3",
   "language": "python",
   "name": "python3"
  },
  "language_info": {
   "codemirror_mode": {
    "name": "ipython",
    "version": 2
   },
   "file_extension": ".py",
   "mimetype": "text/x-python",
   "name": "python",
   "nbconvert_exporter": "python",
   "pygments_lexer": "ipython2",
   "version": "2.7.6"
  }
 },
 "nbformat": 4,
 "nbformat_minor": 5
}
