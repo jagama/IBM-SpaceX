{
 "cells": [
  {
   "cell_type": "markdown",
   "source": [
    "# Web Scraping Falcon 9 and Falcon Heavy from Web"
   ],
   "metadata": {
    "collapsed": false
   },
   "id": "8ef8b0d204f72ec1"
  },
  {
   "cell_type": "code",
   "execution_count": 1,
   "outputs": [
    {
     "name": "stdout",
     "output_type": "stream",
     "text": [
      "Requirement already satisfied: beautifulsoup4 in /Users/js/anaconda3/envs/SpaceX/lib/python3.10/site-packages (4.12.2)\r\n",
      "Requirement already satisfied: soupsieve>1.2 in /Users/js/anaconda3/envs/SpaceX/lib/python3.10/site-packages (from beautifulsoup4) (2.4)\r\n"
     ]
    }
   ],
   "source": [
    "!pip3 install beautifulsoup4"
   ],
   "metadata": {
    "collapsed": false,
    "ExecuteTime": {
     "end_time": "2023-11-02T15:34:31.919561Z",
     "start_time": "2023-11-02T15:34:31.199638Z"
    }
   },
   "id": "f0d200c335479210"
  },
  {
   "cell_type": "code",
   "execution_count": 2,
   "outputs": [],
   "source": [
    "# requests allows HTTP requests  to get data from API\n",
    "# pandas for data manipulation and analysis\n",
    "# beautifulSoup to web scrap data\n",
    "# datetime allows dates representation\n",
    "\n",
    "import sys\n",
    "import requests\n",
    "import pandas as pd\n",
    "import bs4 as beautifulsoup\n",
    "import re\n",
    "import unicodedata"
   ],
   "metadata": {
    "collapsed": false,
    "ExecuteTime": {
     "end_time": "2023-11-02T15:34:32.435805Z",
     "start_time": "2023-11-02T15:34:31.920387Z"
    }
   },
   "id": "a6abbfeecb7ec849"
  },
  {
   "cell_type": "markdown",
   "source": [
    "### Helper function definitions to extract data from API"
   ],
   "metadata": {
    "collapsed": false
   },
   "id": "ea9baf1d8de85842"
  },
  {
   "cell_type": "code",
   "execution_count": 3,
   "outputs": [],
   "source": [
    "#  function to return data and time from the HTML table cell - As input: element of a table data cell extracts extra row\n",
    "def date_time(table_cells):\n",
    "    return [data_time.strip() for data_time in list(table_cells.strings)][0:2]"
   ],
   "metadata": {
    "collapsed": false,
    "ExecuteTime": {
     "end_time": "2023-11-02T15:34:32.450474Z",
     "start_time": "2023-11-02T15:34:32.439921Z"
    }
   },
   "id": "cac93f262ced420b"
  },
  {
   "cell_type": "code",
   "execution_count": 4,
   "outputs": [],
   "source": [
    "#  function to return booster version from the HTML table cell - As input: element of a table data cell extracts extra row\n",
    "def booster_version(table_cells):\n",
    "    output = ''.join([booster_version for item, booster_version in enumerate(table_cells.strings) if item % 2 == 0] [0:-1])\n",
    "    return  output"
   ],
   "metadata": {
    "collapsed": false,
    "ExecuteTime": {
     "end_time": "2023-11-02T15:34:32.457893Z",
     "start_time": "2023-11-02T15:34:32.450696Z"
    }
   },
   "id": "33e305e2ddc5dd6c"
  },
  {
   "cell_type": "code",
   "execution_count": 5,
   "outputs": [],
   "source": [
    "#  function to return landing status from the HTML table cell - As input: element of a table data cell extracts extra row\n",
    "def landing_stats(table_cells):\n",
    "    output = [item for item in table_cells.strings][0]\n",
    "    return output"
   ],
   "metadata": {
    "collapsed": false,
    "ExecuteTime": {
     "end_time": "2023-11-02T15:34:32.463924Z",
     "start_time": "2023-11-02T15:34:32.457777Z"
    }
   },
   "id": "61427e9d94cacdfe"
  },
  {
   "cell_type": "code",
   "execution_count": 6,
   "outputs": [],
   "source": [
    "#  function to return mass from the HTML table cell - As input: element of a table data cell extracts extra row\n",
    "def get_mass(table_cells):\n",
    "    mass = unicodedata.normalize('NFKD', table_cells.text).strip()\n",
    "    if mass:\n",
    "        mass.find('kg')\n",
    "        new_mass = mass[0:mass.find('kg') + 2]\n",
    "    else:\n",
    "        new_mass = 0 \n",
    "    return new_mass"
   ],
   "metadata": {
    "collapsed": false,
    "ExecuteTime": {
     "end_time": "2023-11-02T15:34:32.471487Z",
     "start_time": "2023-11-02T15:34:32.463819Z"
    }
   },
   "id": "6ee99bcec78f0a85"
  },
  {
   "cell_type": "code",
   "execution_count": 7,
   "outputs": [],
   "source": [
    "#  function to return landing status (cleaned , ordered, column from header) \n",
    "def extract_column(_row):\n",
    "    if _row.br:\n",
    "        _row.br.extract()\n",
    "    if _row.a:\n",
    "        _row.a.extract()\n",
    "    if _row.sup:\n",
    "        _row.sup.extract()\n",
    "    column_name = ' '.join(_row.contents)\n",
    "    \n",
    "    # filter empty and digit\n",
    "    if not(column_name.strip().isdigit()):\n",
    "        column_name = column_name.strip()\n",
    "        return column_name"
   ],
   "metadata": {
    "collapsed": false,
    "ExecuteTime": {
     "end_time": "2023-11-02T15:34:32.473852Z",
     "start_time": "2023-11-02T15:34:32.468372Z"
    }
   },
   "id": "fb520d08b66c9da9"
  },
  {
   "cell_type": "markdown",
   "source": [
    "static url to scrape public data "
   ],
   "metadata": {
    "collapsed": false
   },
   "id": "87c2cf631f153393"
  },
  {
   "cell_type": "code",
   "execution_count": 8,
   "outputs": [],
   "source": [
    "url = \"https://en.wikipedia.org/w/index.php?title=List_of_Falcon_9_and_Falcon_Heavy_launches&oldid=1027686922\""
   ],
   "metadata": {
    "collapsed": false,
    "ExecuteTime": {
     "end_time": "2023-11-02T15:34:32.480266Z",
     "start_time": "2023-11-02T15:34:32.473999Z"
    }
   },
   "id": "4588dca24763a33a"
  },
  {
   "cell_type": "markdown",
   "source": [
    "## Request Flacon9 launch from url"
   ],
   "metadata": {
    "collapsed": false
   },
   "id": "9a8bedd249350e1e"
  },
  {
   "cell_type": "code",
   "execution_count": 9,
   "outputs": [
    {
     "data": {
      "text/plain": "200"
     },
     "execution_count": 9,
     "metadata": {},
     "output_type": "execute_result"
    }
   ],
   "source": [
    "data = requests.get(url)\n",
    "data.status_code"
   ],
   "metadata": {
    "collapsed": false,
    "ExecuteTime": {
     "end_time": "2023-11-02T15:34:32.681572Z",
     "start_time": "2023-11-02T15:34:32.479509Z"
    }
   },
   "id": "452661601092b90a"
  },
  {
   "cell_type": "markdown",
   "source": [
    "use <code>beautifulSoup</code> to create an obj from the html response"
   ],
   "metadata": {
    "collapsed": false
   },
   "id": "a24fe370793d11ac"
  },
  {
   "cell_type": "code",
   "execution_count": 10,
   "outputs": [
    {
     "data": {
      "text/plain": "<title>List of Falcon 9 and Falcon Heavy launches - Wikipedia</title>"
     },
     "execution_count": 10,
     "metadata": {},
     "output_type": "execute_result"
    }
   ],
   "source": [
    "soup = beautifulsoup.BeautifulSoup(data.text)\n",
    "soup.title"
   ],
   "metadata": {
    "collapsed": false,
    "ExecuteTime": {
     "end_time": "2023-11-02T15:34:32.929242Z",
     "start_time": "2023-11-02T15:34:32.685357Z"
    }
   },
   "id": "60a58f960424c138"
  },
  {
   "cell_type": "markdown",
   "source": [
    "## Extract data: column / variable names from HTML table header"
   ],
   "metadata": {
    "collapsed": false
   },
   "id": "33b2c4ad5de530f5"
  },
  {
   "cell_type": "markdown",
   "source": [
    "1. find all tables on wiki\n",
    "2. remember to refresh bs memory"
   ],
   "metadata": {
    "collapsed": false
   },
   "id": "7f621d2786e380e6"
  },
  {
   "cell_type": "code",
   "execution_count": 11,
   "outputs": [],
   "source": [
    "# find all elements with type 'table' and assign the result\n",
    "html_tables = soup.find_all('table')"
   ],
   "metadata": {
    "collapsed": false,
    "ExecuteTime": {
     "end_time": "2023-11-02T15:34:32.937767Z",
     "start_time": "2023-11-02T15:34:32.934031Z"
    }
   },
   "id": "2c8653a3269bc8b7"
  },
  {
   "cell_type": "markdown",
   "source": [
    "the 3 table is target table, with launch records"
   ],
   "metadata": {
    "collapsed": false
   },
   "id": "dadb128a708e6379"
  },
  {
   "cell_type": "code",
   "execution_count": 12,
   "outputs": [],
   "source": [
    "launch_table = html_tables[2]\n",
    "\n",
    "# print(launch_table) to check table"
   ],
   "metadata": {
    "collapsed": false,
    "ExecuteTime": {
     "end_time": "2023-11-02T15:34:32.942119Z",
     "start_time": "2023-11-02T15:34:32.938074Z"
    }
   },
   "id": "631255470f32a89c"
  },
  {
   "cell_type": "markdown",
   "source": [
    "Iteration through <code>th</code> elements and call the <code>extract_column()</code> to retrieve column name "
   ],
   "metadata": {
    "collapsed": false
   },
   "id": "8388dad5e5a2cd7c"
  },
  {
   "cell_type": "code",
   "execution_count": 13,
   "outputs": [
    {
     "name": "stdout",
     "output_type": "stream",
     "text": [
      "['Flight No.', 'Date and time ( )', 'Launch site', 'Payload', 'Payload mass', 'Orbit', 'Customer', 'Launch outcome']\n"
     ]
    }
   ],
   "source": [
    "# find all elements 'th' on launch_table\n",
    "# iterate each element and extract column name - extract_column()\n",
    "# if not empty (name != None and len(name) > 0) append into column_names\n",
    "column_names = []\n",
    "\n",
    "for element in launch_table.find_all('th'):\n",
    "    name = extract_column(element)\n",
    "    if name is not None and len(name) > 0:\n",
    "        column_names.append(name)\n",
    "\n",
    "print(column_names)"
   ],
   "metadata": {
    "collapsed": false,
    "ExecuteTime": {
     "end_time": "2023-11-02T15:34:32.947768Z",
     "start_time": "2023-11-02T15:34:32.943219Z"
    }
   },
   "id": "c03e9368698d5a4a"
  },
  {
   "cell_type": "markdown",
   "source": [
    "## Parse HTML Tables and create a dataFrame"
   ],
   "metadata": {
    "collapsed": false
   },
   "id": "27b767221a7f21e"
  },
  {
   "cell_type": "markdown",
   "source": [
    "Dictionary creation. Keys are the extracted column names. Finally convert dictionary into a Data Frame."
   ],
   "metadata": {
    "collapsed": false
   },
   "id": "bbab9f6ef2ea75e5"
  },
  {
   "cell_type": "code",
   "execution_count": 14,
   "outputs": [],
   "source": [
    "\n",
    "# Create an empty dictionary with specified column names\n",
    "launch_dict = dict.fromkeys(column_names)\n",
    "\n",
    "# Remove an irrelevant column\n",
    "del launch_dict['Date and time ( )']\n",
    "\n",
    "# Initialize the launch_dict with each value as an empty list\n",
    "launch_dict['Flight No.'] = []\n",
    "launch_dict['Launch site'] = []\n",
    "launch_dict['Payload'] = []\n",
    "launch_dict['Payload mass'] = []\n",
    "launch_dict['Orbit'] = []\n",
    "launch_dict['Customer'] = []\n",
    "launch_dict['Launch outcome'] = []\n",
    "launch_dict['Version Booster'] = []\n",
    "launch_dict['Booster landing'] = []\n",
    "launch_dict['Date'] = []\n",
    "launch_dict['Time'] = []\n",
    "\n",
    "extracted_row = 0\n",
    "\n",
    "# Extract data from each table\n",
    "for table_number, table in enumerate(soup.find_all('table', \"wikitable plainrowheaders collapsible\")):\n",
    "    # Get each table row\n",
    "    for rows in table.find_all(\"tr\"):\n",
    "        # Check if the first table heading is a number corresponding to a launch number\n",
    "        if rows.th:\n",
    "            if rows.th.string:\n",
    "                flight_number = rows.th.string.strip()\n",
    "                flag = flight_number.isdigit()\n",
    "        else:\n",
    "            flag = False\n",
    "\n",
    "        # Get table elements\n",
    "        row = rows.find_all('td')\n",
    "\n",
    "        # If it is a number, save cells in the dictionary\n",
    "        if flag:\n",
    "            extracted_row += 1\n",
    "\n",
    "            # Flight Number value\n",
    "            launch_dict['Flight No.'].append(flight_number)\n",
    "\n",
    "            # Date value\n",
    "            date_time_list = date_time(row[0])\n",
    "            date = date_time_list[0].strip(',')\n",
    "            launch_dict['Date'].append(date)\n",
    "\n",
    "            # Time value\n",
    "            time = date_time_list[1]\n",
    "            launch_dict['Time'].append(time)\n",
    "\n",
    "            # Booster version\n",
    "            bv = booster_version(row[1])\n",
    "            if not bv:\n",
    "                bv = row[1].a.string\n",
    "            launch_dict['Version Booster'].append(bv)\n",
    "\n",
    "            # Launch Site\n",
    "            launch_site = row[2].a.string\n",
    "            launch_dict['Launch site'].append(launch_site)\n",
    "\n",
    "            # Payload\n",
    "            payload = row[3].a.string\n",
    "            launch_dict['Payload'].append(payload)\n",
    "\n",
    "            # Payload Mass\n",
    "            payload_mass = get_mass(row[4])\n",
    "            launch_dict['Payload mass'].append(payload_mass)\n",
    "\n",
    "            # Orbit\n",
    "            orbit = row[5].a.string\n",
    "            launch_dict['Orbit'].append(orbit)\n",
    "\n",
    "            # Customer\n",
    "            try:\n",
    "                customer = row[6].a.string\n",
    "            except:\n",
    "                customer = 'Various'\n",
    "            launch_dict['Customer'].append(customer)\n",
    "            \n",
    "\n",
    "            # Launch outcome\n",
    "            launch_outcome = list(row[7].strings)[0]\n",
    "            launch_dict['Launch outcome'].append(launch_outcome)\n",
    "\n",
    "            # Booster landing\n",
    "            booster_landing = landing_stats(row[8])\n",
    "            launch_dict['Booster landing'].append(booster_landing)"
   ],
   "metadata": {
    "collapsed": false,
    "ExecuteTime": {
     "end_time": "2023-11-02T15:34:33.010888Z",
     "start_time": "2023-11-02T15:34:32.979616Z"
    }
   },
   "id": "6383816a92e430d3"
  },
  {
   "cell_type": "markdown",
   "source": [
    "Data in the web are often inconsistent, with unexpected tokens, annotations and other type of noise.\n",
    "Clean, and parse all the data."
   ],
   "metadata": {
    "collapsed": false
   },
   "id": "cdc8adecb8e1998b"
  },
  {
   "cell_type": "code",
   "execution_count": 15,
   "outputs": [
    {
     "data": {
      "text/plain": "  Flight No. Launch site                               Payload Payload mass  \\\n0          1       CCAFS  Dragon Spacecraft Qualification Unit            0   \n1          2       CCAFS                                Dragon            0   \n2          3       CCAFS                                Dragon       525 kg   \n3          4       CCAFS                          SpaceX CRS-1     4,700 kg   \n4          5       CCAFS                          SpaceX CRS-2     4,877 kg   \n\n  Orbit Customer Launch outcome Version Booster Booster landing  \\\n0   LEO   SpaceX      Success\\n  F9 v1.0B0003.1         Failure   \n1   LEO     NASA        Success  F9 v1.0B0004.1         Failure   \n2   LEO     NASA        Success  F9 v1.0B0005.1    No attempt\\n   \n3   LEO     NASA      Success\\n  F9 v1.0B0006.1      No attempt   \n4   LEO     NASA      Success\\n  F9 v1.0B0007.1    No attempt\\n   \n\n              Date   Time  \n0      4 June 2010  18:45  \n1  8 December 2010  15:43  \n2      22 May 2012  07:44  \n3   8 October 2012  00:35  \n4     1 March 2013  15:10  ",
      "text/html": "<div>\n<style scoped>\n    .dataframe tbody tr th:only-of-type {\n        vertical-align: middle;\n    }\n\n    .dataframe tbody tr th {\n        vertical-align: top;\n    }\n\n    .dataframe thead th {\n        text-align: right;\n    }\n</style>\n<table border=\"1\" class=\"dataframe\">\n  <thead>\n    <tr style=\"text-align: right;\">\n      <th></th>\n      <th>Flight No.</th>\n      <th>Launch site</th>\n      <th>Payload</th>\n      <th>Payload mass</th>\n      <th>Orbit</th>\n      <th>Customer</th>\n      <th>Launch outcome</th>\n      <th>Version Booster</th>\n      <th>Booster landing</th>\n      <th>Date</th>\n      <th>Time</th>\n    </tr>\n  </thead>\n  <tbody>\n    <tr>\n      <th>0</th>\n      <td>1</td>\n      <td>CCAFS</td>\n      <td>Dragon Spacecraft Qualification Unit</td>\n      <td>0</td>\n      <td>LEO</td>\n      <td>SpaceX</td>\n      <td>Success\\n</td>\n      <td>F9 v1.0B0003.1</td>\n      <td>Failure</td>\n      <td>4 June 2010</td>\n      <td>18:45</td>\n    </tr>\n    <tr>\n      <th>1</th>\n      <td>2</td>\n      <td>CCAFS</td>\n      <td>Dragon</td>\n      <td>0</td>\n      <td>LEO</td>\n      <td>NASA</td>\n      <td>Success</td>\n      <td>F9 v1.0B0004.1</td>\n      <td>Failure</td>\n      <td>8 December 2010</td>\n      <td>15:43</td>\n    </tr>\n    <tr>\n      <th>2</th>\n      <td>3</td>\n      <td>CCAFS</td>\n      <td>Dragon</td>\n      <td>525 kg</td>\n      <td>LEO</td>\n      <td>NASA</td>\n      <td>Success</td>\n      <td>F9 v1.0B0005.1</td>\n      <td>No attempt\\n</td>\n      <td>22 May 2012</td>\n      <td>07:44</td>\n    </tr>\n    <tr>\n      <th>3</th>\n      <td>4</td>\n      <td>CCAFS</td>\n      <td>SpaceX CRS-1</td>\n      <td>4,700 kg</td>\n      <td>LEO</td>\n      <td>NASA</td>\n      <td>Success\\n</td>\n      <td>F9 v1.0B0006.1</td>\n      <td>No attempt</td>\n      <td>8 October 2012</td>\n      <td>00:35</td>\n    </tr>\n    <tr>\n      <th>4</th>\n      <td>5</td>\n      <td>CCAFS</td>\n      <td>SpaceX CRS-2</td>\n      <td>4,877 kg</td>\n      <td>LEO</td>\n      <td>NASA</td>\n      <td>Success\\n</td>\n      <td>F9 v1.0B0007.1</td>\n      <td>No attempt\\n</td>\n      <td>1 March 2013</td>\n      <td>15:10</td>\n    </tr>\n  </tbody>\n</table>\n</div>"
     },
     "execution_count": 15,
     "metadata": {},
     "output_type": "execute_result"
    }
   ],
   "source": [
    "df = pd.DataFrame(launch_dict)\n",
    "df.head()"
   ],
   "metadata": {
    "collapsed": false,
    "ExecuteTime": {
     "end_time": "2023-11-02T15:34:33.015136Z",
     "start_time": "2023-11-02T15:34:32.982991Z"
    }
   },
   "id": "366ce16e47b258c5"
  }
 ],
 "metadata": {
  "kernelspec": {
   "display_name": "Python 3",
   "language": "python",
   "name": "python3"
  },
  "language_info": {
   "codemirror_mode": {
    "name": "ipython",
    "version": 2
   },
   "file_extension": ".py",
   "mimetype": "text/x-python",
   "name": "python",
   "nbconvert_exporter": "python",
   "pygments_lexer": "ipython2",
   "version": "2.7.6"
  }
 },
 "nbformat": 4,
 "nbformat_minor": 5
}
